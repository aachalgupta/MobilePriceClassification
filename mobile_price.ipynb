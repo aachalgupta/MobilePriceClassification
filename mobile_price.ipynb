{
 "cells": [
  {
   "cell_type": "code",
   "execution_count": 15,
   "metadata": {},
   "outputs": [],
   "source": [
    "import numpy as np \n",
    "import pandas as pd\n",
    "import matplotlib.pyplot as plt\n",
    "import seaborn as sns"
   ]
  },
  {
   "cell_type": "code",
   "execution_count": 16,
   "metadata": {},
   "outputs": [
    {
     "data": {
      "text/html": [
       "<div>\n",
       "<style scoped>\n",
       "    .dataframe tbody tr th:only-of-type {\n",
       "        vertical-align: middle;\n",
       "    }\n",
       "\n",
       "    .dataframe tbody tr th {\n",
       "        vertical-align: top;\n",
       "    }\n",
       "\n",
       "    .dataframe thead th {\n",
       "        text-align: right;\n",
       "    }\n",
       "</style>\n",
       "<table border=\"1\" class=\"dataframe\">\n",
       "  <thead>\n",
       "    <tr style=\"text-align: right;\">\n",
       "      <th></th>\n",
       "      <th>battery_power</th>\n",
       "      <th>clock_speed</th>\n",
       "      <th>fc</th>\n",
       "      <th>int_memory</th>\n",
       "      <th>m_dep</th>\n",
       "      <th>mobile_wt</th>\n",
       "      <th>n_cores</th>\n",
       "      <th>pc</th>\n",
       "      <th>px_height</th>\n",
       "      <th>px_width</th>\n",
       "      <th>ram</th>\n",
       "      <th>sc_h</th>\n",
       "      <th>sc_w</th>\n",
       "      <th>talk_time</th>\n",
       "      <th>price_range</th>\n",
       "    </tr>\n",
       "  </thead>\n",
       "  <tbody>\n",
       "    <tr>\n",
       "      <th>0</th>\n",
       "      <td>842</td>\n",
       "      <td>2.2</td>\n",
       "      <td>1</td>\n",
       "      <td>7</td>\n",
       "      <td>0.6</td>\n",
       "      <td>188</td>\n",
       "      <td>2</td>\n",
       "      <td>2</td>\n",
       "      <td>20</td>\n",
       "      <td>756</td>\n",
       "      <td>2549</td>\n",
       "      <td>9</td>\n",
       "      <td>7</td>\n",
       "      <td>19</td>\n",
       "      <td>1</td>\n",
       "    </tr>\n",
       "    <tr>\n",
       "      <th>1</th>\n",
       "      <td>1021</td>\n",
       "      <td>0.5</td>\n",
       "      <td>0</td>\n",
       "      <td>53</td>\n",
       "      <td>0.7</td>\n",
       "      <td>136</td>\n",
       "      <td>3</td>\n",
       "      <td>6</td>\n",
       "      <td>905</td>\n",
       "      <td>1988</td>\n",
       "      <td>2631</td>\n",
       "      <td>17</td>\n",
       "      <td>3</td>\n",
       "      <td>7</td>\n",
       "      <td>2</td>\n",
       "    </tr>\n",
       "    <tr>\n",
       "      <th>2</th>\n",
       "      <td>563</td>\n",
       "      <td>0.5</td>\n",
       "      <td>2</td>\n",
       "      <td>41</td>\n",
       "      <td>0.9</td>\n",
       "      <td>145</td>\n",
       "      <td>5</td>\n",
       "      <td>6</td>\n",
       "      <td>1263</td>\n",
       "      <td>1716</td>\n",
       "      <td>2603</td>\n",
       "      <td>11</td>\n",
       "      <td>2</td>\n",
       "      <td>9</td>\n",
       "      <td>2</td>\n",
       "    </tr>\n",
       "    <tr>\n",
       "      <th>3</th>\n",
       "      <td>615</td>\n",
       "      <td>2.5</td>\n",
       "      <td>0</td>\n",
       "      <td>10</td>\n",
       "      <td>0.8</td>\n",
       "      <td>131</td>\n",
       "      <td>6</td>\n",
       "      <td>9</td>\n",
       "      <td>1216</td>\n",
       "      <td>1786</td>\n",
       "      <td>2769</td>\n",
       "      <td>16</td>\n",
       "      <td>8</td>\n",
       "      <td>11</td>\n",
       "      <td>2</td>\n",
       "    </tr>\n",
       "    <tr>\n",
       "      <th>4</th>\n",
       "      <td>1821</td>\n",
       "      <td>1.2</td>\n",
       "      <td>13</td>\n",
       "      <td>44</td>\n",
       "      <td>0.6</td>\n",
       "      <td>141</td>\n",
       "      <td>2</td>\n",
       "      <td>14</td>\n",
       "      <td>1208</td>\n",
       "      <td>1212</td>\n",
       "      <td>1411</td>\n",
       "      <td>8</td>\n",
       "      <td>2</td>\n",
       "      <td>15</td>\n",
       "      <td>1</td>\n",
       "    </tr>\n",
       "    <tr>\n",
       "      <th>5</th>\n",
       "      <td>1859</td>\n",
       "      <td>0.5</td>\n",
       "      <td>3</td>\n",
       "      <td>22</td>\n",
       "      <td>0.7</td>\n",
       "      <td>164</td>\n",
       "      <td>1</td>\n",
       "      <td>7</td>\n",
       "      <td>1004</td>\n",
       "      <td>1654</td>\n",
       "      <td>1067</td>\n",
       "      <td>17</td>\n",
       "      <td>1</td>\n",
       "      <td>10</td>\n",
       "      <td>1</td>\n",
       "    </tr>\n",
       "    <tr>\n",
       "      <th>6</th>\n",
       "      <td>1821</td>\n",
       "      <td>1.7</td>\n",
       "      <td>4</td>\n",
       "      <td>10</td>\n",
       "      <td>0.8</td>\n",
       "      <td>139</td>\n",
       "      <td>8</td>\n",
       "      <td>10</td>\n",
       "      <td>381</td>\n",
       "      <td>1018</td>\n",
       "      <td>3220</td>\n",
       "      <td>13</td>\n",
       "      <td>8</td>\n",
       "      <td>18</td>\n",
       "      <td>3</td>\n",
       "    </tr>\n",
       "    <tr>\n",
       "      <th>7</th>\n",
       "      <td>1954</td>\n",
       "      <td>0.5</td>\n",
       "      <td>0</td>\n",
       "      <td>24</td>\n",
       "      <td>0.8</td>\n",
       "      <td>187</td>\n",
       "      <td>4</td>\n",
       "      <td>0</td>\n",
       "      <td>512</td>\n",
       "      <td>1149</td>\n",
       "      <td>700</td>\n",
       "      <td>16</td>\n",
       "      <td>3</td>\n",
       "      <td>5</td>\n",
       "      <td>0</td>\n",
       "    </tr>\n",
       "    <tr>\n",
       "      <th>8</th>\n",
       "      <td>1445</td>\n",
       "      <td>0.5</td>\n",
       "      <td>0</td>\n",
       "      <td>53</td>\n",
       "      <td>0.7</td>\n",
       "      <td>174</td>\n",
       "      <td>7</td>\n",
       "      <td>14</td>\n",
       "      <td>386</td>\n",
       "      <td>836</td>\n",
       "      <td>1099</td>\n",
       "      <td>17</td>\n",
       "      <td>1</td>\n",
       "      <td>20</td>\n",
       "      <td>0</td>\n",
       "    </tr>\n",
       "    <tr>\n",
       "      <th>9</th>\n",
       "      <td>509</td>\n",
       "      <td>0.6</td>\n",
       "      <td>2</td>\n",
       "      <td>9</td>\n",
       "      <td>0.1</td>\n",
       "      <td>93</td>\n",
       "      <td>5</td>\n",
       "      <td>15</td>\n",
       "      <td>1137</td>\n",
       "      <td>1224</td>\n",
       "      <td>513</td>\n",
       "      <td>19</td>\n",
       "      <td>10</td>\n",
       "      <td>12</td>\n",
       "      <td>0</td>\n",
       "    </tr>\n",
       "  </tbody>\n",
       "</table>\n",
       "</div>"
      ],
      "text/plain": [
       "   battery_power  clock_speed  fc  int_memory  m_dep  mobile_wt  n_cores  pc  \\\n",
       "0            842          2.2   1           7    0.6        188        2   2   \n",
       "1           1021          0.5   0          53    0.7        136        3   6   \n",
       "2            563          0.5   2          41    0.9        145        5   6   \n",
       "3            615          2.5   0          10    0.8        131        6   9   \n",
       "4           1821          1.2  13          44    0.6        141        2  14   \n",
       "5           1859          0.5   3          22    0.7        164        1   7   \n",
       "6           1821          1.7   4          10    0.8        139        8  10   \n",
       "7           1954          0.5   0          24    0.8        187        4   0   \n",
       "8           1445          0.5   0          53    0.7        174        7  14   \n",
       "9            509          0.6   2           9    0.1         93        5  15   \n",
       "\n",
       "   px_height  px_width   ram  sc_h  sc_w  talk_time  price_range  \n",
       "0         20       756  2549     9     7         19            1  \n",
       "1        905      1988  2631    17     3          7            2  \n",
       "2       1263      1716  2603    11     2          9            2  \n",
       "3       1216      1786  2769    16     8         11            2  \n",
       "4       1208      1212  1411     8     2         15            1  \n",
       "5       1004      1654  1067    17     1         10            1  \n",
       "6        381      1018  3220    13     8         18            3  \n",
       "7        512      1149   700    16     3          5            0  \n",
       "8        386       836  1099    17     1         20            0  \n",
       "9       1137      1224   513    19    10         12            0  "
      ]
     },
     "execution_count": 16,
     "metadata": {},
     "output_type": "execute_result"
    }
   ],
   "source": [
    "# Reading File\n",
    "mobile_data = pd.read_csv(r\"C:\\Users\\Admin\\Downloads\\Mobile_data.csv\",index_col=None,header=0)\n",
    "mobile_data.head(10)\n",
    "\n",
    "# Price range is our Target Variable and its a CLASSIFICATION Problem(0,1,2,3)\n",
    "# where 0(low cost), 1(medium cost), 2(high cost) and 3(very high cost)"
   ]
  },
  {
   "cell_type": "code",
   "execution_count": 17,
   "metadata": {},
   "outputs": [
    {
     "data": {
      "text/plain": [
       "(2000, 15)"
      ]
     },
     "execution_count": 17,
     "metadata": {},
     "output_type": "execute_result"
    }
   ],
   "source": [
    "# Shape\n",
    "mobile_data.shape"
   ]
  },
  {
   "cell_type": "code",
   "execution_count": 18,
   "metadata": {
    "scrolled": true
   },
   "outputs": [
    {
     "data": {
      "text/plain": [
       "battery_power      int64\n",
       "clock_speed      float64\n",
       "fc                 int64\n",
       "int_memory         int64\n",
       "m_dep            float64\n",
       "mobile_wt          int64\n",
       "n_cores            int64\n",
       "pc                 int64\n",
       "px_height          int64\n",
       "px_width           int64\n",
       "ram                int64\n",
       "sc_h               int64\n",
       "sc_w               int64\n",
       "talk_time          int64\n",
       "price_range        int64\n",
       "dtype: object"
      ]
     },
     "execution_count": 18,
     "metadata": {},
     "output_type": "execute_result"
    }
   ],
   "source": [
    "# CHECKING DATA TYPE OF EACH VARIABLE\n",
    "mobile_data.dtypes"
   ]
  },
  {
   "cell_type": "markdown",
   "metadata": {},
   "source": [
    "All are numeric"
   ]
  },
  {
   "cell_type": "code",
   "execution_count": 19,
   "metadata": {},
   "outputs": [
    {
     "data": {
      "text/html": [
       "<div>\n",
       "<style scoped>\n",
       "    .dataframe tbody tr th:only-of-type {\n",
       "        vertical-align: middle;\n",
       "    }\n",
       "\n",
       "    .dataframe tbody tr th {\n",
       "        vertical-align: top;\n",
       "    }\n",
       "\n",
       "    .dataframe thead th {\n",
       "        text-align: right;\n",
       "    }\n",
       "</style>\n",
       "<table border=\"1\" class=\"dataframe\">\n",
       "  <thead>\n",
       "    <tr style=\"text-align: right;\">\n",
       "      <th></th>\n",
       "      <th>battery_power</th>\n",
       "      <th>clock_speed</th>\n",
       "      <th>fc</th>\n",
       "      <th>int_memory</th>\n",
       "      <th>m_dep</th>\n",
       "      <th>mobile_wt</th>\n",
       "      <th>n_cores</th>\n",
       "      <th>pc</th>\n",
       "      <th>px_height</th>\n",
       "      <th>px_width</th>\n",
       "      <th>ram</th>\n",
       "      <th>sc_h</th>\n",
       "      <th>sc_w</th>\n",
       "      <th>talk_time</th>\n",
       "      <th>price_range</th>\n",
       "    </tr>\n",
       "  </thead>\n",
       "  <tbody>\n",
       "    <tr>\n",
       "      <th>count</th>\n",
       "      <td>2000.000000</td>\n",
       "      <td>2000.000000</td>\n",
       "      <td>2000.000000</td>\n",
       "      <td>2000.000000</td>\n",
       "      <td>2000.000000</td>\n",
       "      <td>2000.000000</td>\n",
       "      <td>2000.000000</td>\n",
       "      <td>2000.000000</td>\n",
       "      <td>2000.000000</td>\n",
       "      <td>2000.000000</td>\n",
       "      <td>2000.000000</td>\n",
       "      <td>2000.000000</td>\n",
       "      <td>2000.000000</td>\n",
       "      <td>2000.000000</td>\n",
       "      <td>2000.000000</td>\n",
       "    </tr>\n",
       "    <tr>\n",
       "      <th>mean</th>\n",
       "      <td>1238.518500</td>\n",
       "      <td>1.522250</td>\n",
       "      <td>4.309500</td>\n",
       "      <td>32.046500</td>\n",
       "      <td>0.501750</td>\n",
       "      <td>140.249000</td>\n",
       "      <td>4.520500</td>\n",
       "      <td>9.916500</td>\n",
       "      <td>645.108000</td>\n",
       "      <td>1251.515500</td>\n",
       "      <td>2124.213000</td>\n",
       "      <td>12.306500</td>\n",
       "      <td>5.767000</td>\n",
       "      <td>11.011000</td>\n",
       "      <td>1.500000</td>\n",
       "    </tr>\n",
       "    <tr>\n",
       "      <th>std</th>\n",
       "      <td>439.418206</td>\n",
       "      <td>0.816004</td>\n",
       "      <td>4.341444</td>\n",
       "      <td>18.145715</td>\n",
       "      <td>0.288416</td>\n",
       "      <td>35.399655</td>\n",
       "      <td>2.287837</td>\n",
       "      <td>6.064315</td>\n",
       "      <td>443.780811</td>\n",
       "      <td>432.199447</td>\n",
       "      <td>1084.732044</td>\n",
       "      <td>4.213245</td>\n",
       "      <td>4.356398</td>\n",
       "      <td>5.463955</td>\n",
       "      <td>1.118314</td>\n",
       "    </tr>\n",
       "    <tr>\n",
       "      <th>min</th>\n",
       "      <td>501.000000</td>\n",
       "      <td>0.500000</td>\n",
       "      <td>0.000000</td>\n",
       "      <td>2.000000</td>\n",
       "      <td>0.100000</td>\n",
       "      <td>80.000000</td>\n",
       "      <td>1.000000</td>\n",
       "      <td>0.000000</td>\n",
       "      <td>0.000000</td>\n",
       "      <td>500.000000</td>\n",
       "      <td>256.000000</td>\n",
       "      <td>5.000000</td>\n",
       "      <td>0.000000</td>\n",
       "      <td>2.000000</td>\n",
       "      <td>0.000000</td>\n",
       "    </tr>\n",
       "    <tr>\n",
       "      <th>25%</th>\n",
       "      <td>851.750000</td>\n",
       "      <td>0.700000</td>\n",
       "      <td>1.000000</td>\n",
       "      <td>16.000000</td>\n",
       "      <td>0.200000</td>\n",
       "      <td>109.000000</td>\n",
       "      <td>3.000000</td>\n",
       "      <td>5.000000</td>\n",
       "      <td>282.750000</td>\n",
       "      <td>874.750000</td>\n",
       "      <td>1207.500000</td>\n",
       "      <td>9.000000</td>\n",
       "      <td>2.000000</td>\n",
       "      <td>6.000000</td>\n",
       "      <td>0.750000</td>\n",
       "    </tr>\n",
       "    <tr>\n",
       "      <th>50%</th>\n",
       "      <td>1226.000000</td>\n",
       "      <td>1.500000</td>\n",
       "      <td>3.000000</td>\n",
       "      <td>32.000000</td>\n",
       "      <td>0.500000</td>\n",
       "      <td>141.000000</td>\n",
       "      <td>4.000000</td>\n",
       "      <td>10.000000</td>\n",
       "      <td>564.000000</td>\n",
       "      <td>1247.000000</td>\n",
       "      <td>2146.500000</td>\n",
       "      <td>12.000000</td>\n",
       "      <td>5.000000</td>\n",
       "      <td>11.000000</td>\n",
       "      <td>1.500000</td>\n",
       "    </tr>\n",
       "    <tr>\n",
       "      <th>75%</th>\n",
       "      <td>1615.250000</td>\n",
       "      <td>2.200000</td>\n",
       "      <td>7.000000</td>\n",
       "      <td>48.000000</td>\n",
       "      <td>0.800000</td>\n",
       "      <td>170.000000</td>\n",
       "      <td>7.000000</td>\n",
       "      <td>15.000000</td>\n",
       "      <td>947.250000</td>\n",
       "      <td>1633.000000</td>\n",
       "      <td>3064.500000</td>\n",
       "      <td>16.000000</td>\n",
       "      <td>9.000000</td>\n",
       "      <td>16.000000</td>\n",
       "      <td>2.250000</td>\n",
       "    </tr>\n",
       "    <tr>\n",
       "      <th>max</th>\n",
       "      <td>1998.000000</td>\n",
       "      <td>3.000000</td>\n",
       "      <td>19.000000</td>\n",
       "      <td>64.000000</td>\n",
       "      <td>1.000000</td>\n",
       "      <td>200.000000</td>\n",
       "      <td>8.000000</td>\n",
       "      <td>20.000000</td>\n",
       "      <td>1960.000000</td>\n",
       "      <td>1998.000000</td>\n",
       "      <td>3998.000000</td>\n",
       "      <td>19.000000</td>\n",
       "      <td>18.000000</td>\n",
       "      <td>20.000000</td>\n",
       "      <td>3.000000</td>\n",
       "    </tr>\n",
       "  </tbody>\n",
       "</table>\n",
       "</div>"
      ],
      "text/plain": [
       "       battery_power  clock_speed           fc   int_memory        m_dep  \\\n",
       "count    2000.000000  2000.000000  2000.000000  2000.000000  2000.000000   \n",
       "mean     1238.518500     1.522250     4.309500    32.046500     0.501750   \n",
       "std       439.418206     0.816004     4.341444    18.145715     0.288416   \n",
       "min       501.000000     0.500000     0.000000     2.000000     0.100000   \n",
       "25%       851.750000     0.700000     1.000000    16.000000     0.200000   \n",
       "50%      1226.000000     1.500000     3.000000    32.000000     0.500000   \n",
       "75%      1615.250000     2.200000     7.000000    48.000000     0.800000   \n",
       "max      1998.000000     3.000000    19.000000    64.000000     1.000000   \n",
       "\n",
       "         mobile_wt      n_cores           pc    px_height     px_width  \\\n",
       "count  2000.000000  2000.000000  2000.000000  2000.000000  2000.000000   \n",
       "mean    140.249000     4.520500     9.916500   645.108000  1251.515500   \n",
       "std      35.399655     2.287837     6.064315   443.780811   432.199447   \n",
       "min      80.000000     1.000000     0.000000     0.000000   500.000000   \n",
       "25%     109.000000     3.000000     5.000000   282.750000   874.750000   \n",
       "50%     141.000000     4.000000    10.000000   564.000000  1247.000000   \n",
       "75%     170.000000     7.000000    15.000000   947.250000  1633.000000   \n",
       "max     200.000000     8.000000    20.000000  1960.000000  1998.000000   \n",
       "\n",
       "               ram         sc_h         sc_w    talk_time  price_range  \n",
       "count  2000.000000  2000.000000  2000.000000  2000.000000  2000.000000  \n",
       "mean   2124.213000    12.306500     5.767000    11.011000     1.500000  \n",
       "std    1084.732044     4.213245     4.356398     5.463955     1.118314  \n",
       "min     256.000000     5.000000     0.000000     2.000000     0.000000  \n",
       "25%    1207.500000     9.000000     2.000000     6.000000     0.750000  \n",
       "50%    2146.500000    12.000000     5.000000    11.000000     1.500000  \n",
       "75%    3064.500000    16.000000     9.000000    16.000000     2.250000  \n",
       "max    3998.000000    19.000000    18.000000    20.000000     3.000000  "
      ]
     },
     "execution_count": 19,
     "metadata": {},
     "output_type": "execute_result"
    }
   ],
   "source": [
    "# Statistical summary of the data\n",
    "mobile_data.describe()"
   ]
  },
  {
   "cell_type": "code",
   "execution_count": 20,
   "metadata": {},
   "outputs": [
    {
     "name": "stdout",
     "output_type": "stream",
     "text": [
      "battery_power --> [ 842 1021  563 ... 1139 1467  858]\n",
      "--------------------------------------\n",
      "clock_speed --> [2.2 0.5 2.5 1.2 1.7 0.6 2.9 2.8 2.1 1.  0.9 1.1 2.6 1.4 1.6 2.7 1.3 2.3\n",
      " 2.  1.8 3.  1.5 1.9 2.4 0.8 0.7]\n",
      "--------------------------------------\n",
      "fc --> [ 1  0  2 13  3  4  5  7 11 12 16  6 15  8  9 10 18 17 14 19]\n",
      "--------------------------------------\n",
      "int_memory --> [ 7 53 41 10 44 22 24  9 33 17 52 46 13 23 49 19 39 47 38  8 57 51 21  5\n",
      " 60 61  6 11 50 34 20 27 42 40 64 14 63 43 16 48 12 55 36 30 45 29 58 25\n",
      "  3 54 15 37 31 32  4 18  2 56 26 35 59 28 62]\n",
      "--------------------------------------\n",
      "m_dep --> [0.6 0.7 0.9 0.8 0.1 0.5 1.  0.3 0.4 0.2]\n",
      "--------------------------------------\n",
      "mobile_wt --> [188 136 145 131 141 164 139 187 174  93 182 177 159 198 185 196 121 101\n",
      "  81 156 199 114 111 132 143  96 200  88 150 107 100 157 160 119  87 152\n",
      " 166 110 118 162 127 109 102 104 148 180 128 134 144 168 155 165  80 138\n",
      " 142  90 197 172 116  85 163 178 171 103  83 140 194 146 192 106 135 153\n",
      "  89  82 130 189 181  99 184 195 108 133 179 147 137 190 176  84  97 124\n",
      " 183 113  92  95 151 117  94 173 105 115  91 112 123 129 154 191 175  86\n",
      "  98 125 126 158 170 161 193 169 120 149 186 122 167]\n",
      "--------------------------------------\n",
      "n_cores --> [2 3 5 6 1 8 4 7]\n",
      "--------------------------------------\n",
      "pc --> [ 2  6  9 14  7 10  0 15  1 18 17 11 16  4 20 13  3 19  8  5 12]\n",
      "--------------------------------------\n",
      "px_height --> [  20  905 1263 ...  528  915  483]\n",
      "--------------------------------------\n",
      "px_width --> [ 756 1988 1716 ...  743 1890 1632]\n",
      "--------------------------------------\n",
      "ram --> [2549 2631 2603 ... 2032 3057 3919]\n",
      "--------------------------------------\n",
      "sc_h --> [ 9 17 11 16  8 13 19  5 14 18  7 10 12  6 15]\n",
      "--------------------------------------\n",
      "sc_w --> [ 7  3  2  8  1 10  9  0 15 13  5 11  4 12  6 17 14 16 18]\n",
      "--------------------------------------\n",
      "talk_time --> [19  7  9 11 15 10 18  5 20 12 13  2  4  3 16  6 14 17  8]\n",
      "--------------------------------------\n",
      "price_range --> [1 2 3 0]\n",
      "--------------------------------------\n"
     ]
    }
   ],
   "source": [
    "# Viewing unique values present in our dataset\n",
    "for col in mobile_data.columns:\n",
    "    print(mobile_data[col].name ,\"-->\",  mobile_data[col].unique())\n",
    "    print(\"--------------------------------------\")"
   ]
  },
  {
   "cell_type": "code",
   "execution_count": 21,
   "metadata": {},
   "outputs": [
    {
     "data": {
      "text/plain": [
       "Index(['battery_power', 'clock_speed', 'fc', 'int_memory', 'm_dep',\n",
       "       'mobile_wt', 'n_cores', 'pc', 'px_height', 'px_width', 'ram', 'sc_h',\n",
       "       'sc_w', 'talk_time', 'price_range'],\n",
       "      dtype='object')"
      ]
     },
     "execution_count": 21,
     "metadata": {},
     "output_type": "execute_result"
    }
   ],
   "source": [
    "mobile_data.columns"
   ]
  },
  {
   "cell_type": "code",
   "execution_count": 22,
   "metadata": {},
   "outputs": [
    {
     "data": {
      "text/plain": [
       "battery_power    0\n",
       "clock_speed      0\n",
       "fc               0\n",
       "int_memory       0\n",
       "m_dep            0\n",
       "mobile_wt        0\n",
       "n_cores          0\n",
       "pc               0\n",
       "px_height        0\n",
       "px_width         0\n",
       "ram              0\n",
       "sc_h             0\n",
       "sc_w             0\n",
       "talk_time        0\n",
       "price_range      0\n",
       "dtype: int64"
      ]
     },
     "execution_count": 22,
     "metadata": {},
     "output_type": "execute_result"
    }
   ],
   "source": [
    "# finding if any missing values\n",
    "\n",
    "mobile_data.isnull().sum() "
   ]
  },
  {
   "cell_type": "markdown",
   "metadata": {},
   "source": [
    "This dataset has no missing values"
   ]
  },
  {
   "cell_type": "markdown",
   "metadata": {},
   "source": [
    "# EDA"
   ]
  },
  {
   "cell_type": "code",
   "execution_count": 23,
   "metadata": {},
   "outputs": [
    {
     "data": {
      "text/plain": [
       "3    500\n",
       "2    500\n",
       "1    500\n",
       "0    500\n",
       "Name: price_range, dtype: int64"
      ]
     },
     "execution_count": 23,
     "metadata": {},
     "output_type": "execute_result"
    },
    {
     "data": {
      "text/plain": [
       "<Figure size 864x504 with 0 Axes>"
      ]
     },
     "metadata": {},
     "output_type": "display_data"
    }
   ],
   "source": [
    "## No.of Mobile Phones with Different Price Ranges\n",
    "plt.figure(figsize=(12,7))\n",
    "mobile_data[\"price_range\"].value_counts()"
   ]
  },
  {
   "cell_type": "code",
   "execution_count": 24,
   "metadata": {},
   "outputs": [
    {
     "data": {
      "image/png": "[encoded data removed]",
      "text/plain": [
       "<Figure size 864x504 with 1 Axes>"
      ]
     },
     "metadata": {
      "needs_background": "light"
     },
     "output_type": "display_data"
    }
   ],
   "source": [
    "plt.figure(figsize=(12,7))\n",
    "\n",
    "sns.countplot(x=\"price_range\", data=mobile_data)\n",
    "\n",
    "plt.title(\"No. of Phones with Different Price Ranges\")\n",
    "plt.show()"
   ]
  },
  {
   "cell_type": "code",
   "execution_count": 25,
   "metadata": {},
   "outputs": [
    {
     "data": {
      "text/plain": [
       "<Figure size 864x504 with 0 Axes>"
      ]
     },
     "metadata": {},
     "output_type": "display_data"
    },
    {
     "data": {
      "image/png": "[encoded data removed]",
      "text/plain": [
       "<Figure size 360x360 with 1 Axes>"
      ]
     },
     "metadata": {
      "needs_background": "light"
     },
     "output_type": "display_data"
    }
   ],
   "source": [
    "##\n",
    "plt.figure(figsize=(12,7))\n",
    "\n",
    "sns.displot(mobile_data[\"battery_power\"])\n",
    "plt.show()\n",
    "\n",
    "# It can be seen the Count of mobile phone somewhat decreases when battery_power increases"
   ]
  },
  {
   "cell_type": "code",
   "execution_count": 26,
   "metadata": {},
   "outputs": [
    {
     "data": {
      "text/plain": [
       "<Figure size 864x504 with 0 Axes>"
      ]
     },
     "metadata": {},
     "output_type": "display_data"
    },
    {
     "data": {
      "image/png": "[encoded data removed]",
      "text/plain": [
       "<Figure size 360x360 with 1 Axes>"
      ]
     },
     "metadata": {
      "needs_background": "light"
     },
     "output_type": "display_data"
    }
   ],
   "source": [
    "##\n",
    "plt.figure(figsize=(12,7))\n",
    "\n",
    "sns.displot(mobile_data[\"m_dep\"])\n",
    "plt.show()\n",
    "\n",
    "# We've both thin and almost 1cm thick mobile phones"
   ]
  },
  {
   "cell_type": "code",
   "execution_count": 27,
   "metadata": {},
   "outputs": [
    {
     "data": {
      "text/html": [
       "<div>\n",
       "<style scoped>\n",
       "    .dataframe tbody tr th:only-of-type {\n",
       "        vertical-align: middle;\n",
       "    }\n",
       "\n",
       "    .dataframe tbody tr th {\n",
       "        vertical-align: top;\n",
       "    }\n",
       "\n",
       "    .dataframe thead th {\n",
       "        text-align: right;\n",
       "    }\n",
       "</style>\n",
       "<table border=\"1\" class=\"dataframe\">\n",
       "  <thead>\n",
       "    <tr style=\"text-align: right;\">\n",
       "      <th></th>\n",
       "      <th>battery_power</th>\n",
       "      <th>clock_speed</th>\n",
       "      <th>fc</th>\n",
       "      <th>int_memory</th>\n",
       "      <th>m_dep</th>\n",
       "      <th>mobile_wt</th>\n",
       "      <th>n_cores</th>\n",
       "      <th>pc</th>\n",
       "      <th>px_height</th>\n",
       "      <th>px_width</th>\n",
       "      <th>ram</th>\n",
       "      <th>sc_h</th>\n",
       "      <th>sc_w</th>\n",
       "      <th>talk_time</th>\n",
       "      <th>price_range</th>\n",
       "    </tr>\n",
       "  </thead>\n",
       "  <tbody>\n",
       "    <tr>\n",
       "      <th>battery_power</th>\n",
       "      <td>1.000000</td>\n",
       "      <td>0.011482</td>\n",
       "      <td>0.033334</td>\n",
       "      <td>-0.004004</td>\n",
       "      <td>0.034085</td>\n",
       "      <td>0.001844</td>\n",
       "      <td>-0.029727</td>\n",
       "      <td>0.031441</td>\n",
       "      <td>0.014901</td>\n",
       "      <td>-0.008402</td>\n",
       "      <td>-0.000653</td>\n",
       "      <td>-0.029959</td>\n",
       "      <td>-0.021421</td>\n",
       "      <td>0.052510</td>\n",
       "      <td>0.200723</td>\n",
       "    </tr>\n",
       "    <tr>\n",
       "      <th>clock_speed</th>\n",
       "      <td>0.011482</td>\n",
       "      <td>1.000000</td>\n",
       "      <td>-0.000434</td>\n",
       "      <td>0.006545</td>\n",
       "      <td>-0.014364</td>\n",
       "      <td>0.012350</td>\n",
       "      <td>-0.005724</td>\n",
       "      <td>-0.005245</td>\n",
       "      <td>-0.014523</td>\n",
       "      <td>-0.009476</td>\n",
       "      <td>0.003443</td>\n",
       "      <td>-0.029078</td>\n",
       "      <td>-0.007378</td>\n",
       "      <td>-0.011432</td>\n",
       "      <td>-0.006606</td>\n",
       "    </tr>\n",
       "    <tr>\n",
       "      <th>fc</th>\n",
       "      <td>0.033334</td>\n",
       "      <td>-0.000434</td>\n",
       "      <td>1.000000</td>\n",
       "      <td>-0.029133</td>\n",
       "      <td>-0.001791</td>\n",
       "      <td>0.023618</td>\n",
       "      <td>-0.013356</td>\n",
       "      <td>0.644595</td>\n",
       "      <td>-0.009990</td>\n",
       "      <td>-0.005176</td>\n",
       "      <td>0.015099</td>\n",
       "      <td>-0.011014</td>\n",
       "      <td>-0.012373</td>\n",
       "      <td>-0.006829</td>\n",
       "      <td>0.021998</td>\n",
       "    </tr>\n",
       "    <tr>\n",
       "      <th>int_memory</th>\n",
       "      <td>-0.004004</td>\n",
       "      <td>0.006545</td>\n",
       "      <td>-0.029133</td>\n",
       "      <td>1.000000</td>\n",
       "      <td>0.006886</td>\n",
       "      <td>-0.034214</td>\n",
       "      <td>-0.028310</td>\n",
       "      <td>-0.033273</td>\n",
       "      <td>0.010441</td>\n",
       "      <td>-0.008335</td>\n",
       "      <td>0.032813</td>\n",
       "      <td>0.037771</td>\n",
       "      <td>0.011731</td>\n",
       "      <td>-0.002790</td>\n",
       "      <td>0.044435</td>\n",
       "    </tr>\n",
       "    <tr>\n",
       "      <th>m_dep</th>\n",
       "      <td>0.034085</td>\n",
       "      <td>-0.014364</td>\n",
       "      <td>-0.001791</td>\n",
       "      <td>0.006886</td>\n",
       "      <td>1.000000</td>\n",
       "      <td>0.021756</td>\n",
       "      <td>-0.003504</td>\n",
       "      <td>0.026282</td>\n",
       "      <td>0.025263</td>\n",
       "      <td>0.023566</td>\n",
       "      <td>-0.009434</td>\n",
       "      <td>-0.025348</td>\n",
       "      <td>-0.018388</td>\n",
       "      <td>0.017003</td>\n",
       "      <td>0.000853</td>\n",
       "    </tr>\n",
       "    <tr>\n",
       "      <th>mobile_wt</th>\n",
       "      <td>0.001844</td>\n",
       "      <td>0.012350</td>\n",
       "      <td>0.023618</td>\n",
       "      <td>-0.034214</td>\n",
       "      <td>0.021756</td>\n",
       "      <td>1.000000</td>\n",
       "      <td>-0.018989</td>\n",
       "      <td>0.018844</td>\n",
       "      <td>0.000939</td>\n",
       "      <td>0.000090</td>\n",
       "      <td>-0.002581</td>\n",
       "      <td>-0.033855</td>\n",
       "      <td>-0.020761</td>\n",
       "      <td>0.006209</td>\n",
       "      <td>-0.030302</td>\n",
       "    </tr>\n",
       "    <tr>\n",
       "      <th>n_cores</th>\n",
       "      <td>-0.029727</td>\n",
       "      <td>-0.005724</td>\n",
       "      <td>-0.013356</td>\n",
       "      <td>-0.028310</td>\n",
       "      <td>-0.003504</td>\n",
       "      <td>-0.018989</td>\n",
       "      <td>1.000000</td>\n",
       "      <td>-0.001193</td>\n",
       "      <td>-0.006872</td>\n",
       "      <td>0.024480</td>\n",
       "      <td>0.004868</td>\n",
       "      <td>-0.000315</td>\n",
       "      <td>0.025826</td>\n",
       "      <td>0.013148</td>\n",
       "      <td>0.004399</td>\n",
       "    </tr>\n",
       "    <tr>\n",
       "      <th>pc</th>\n",
       "      <td>0.031441</td>\n",
       "      <td>-0.005245</td>\n",
       "      <td>0.644595</td>\n",
       "      <td>-0.033273</td>\n",
       "      <td>0.026282</td>\n",
       "      <td>0.018844</td>\n",
       "      <td>-0.001193</td>\n",
       "      <td>1.000000</td>\n",
       "      <td>-0.018465</td>\n",
       "      <td>0.004196</td>\n",
       "      <td>0.028984</td>\n",
       "      <td>0.004938</td>\n",
       "      <td>-0.023819</td>\n",
       "      <td>0.014657</td>\n",
       "      <td>0.033599</td>\n",
       "    </tr>\n",
       "    <tr>\n",
       "      <th>px_height</th>\n",
       "      <td>0.014901</td>\n",
       "      <td>-0.014523</td>\n",
       "      <td>-0.009990</td>\n",
       "      <td>0.010441</td>\n",
       "      <td>0.025263</td>\n",
       "      <td>0.000939</td>\n",
       "      <td>-0.006872</td>\n",
       "      <td>-0.018465</td>\n",
       "      <td>1.000000</td>\n",
       "      <td>0.510664</td>\n",
       "      <td>-0.020352</td>\n",
       "      <td>0.059615</td>\n",
       "      <td>0.043038</td>\n",
       "      <td>-0.010645</td>\n",
       "      <td>0.148858</td>\n",
       "    </tr>\n",
       "    <tr>\n",
       "      <th>px_width</th>\n",
       "      <td>-0.008402</td>\n",
       "      <td>-0.009476</td>\n",
       "      <td>-0.005176</td>\n",
       "      <td>-0.008335</td>\n",
       "      <td>0.023566</td>\n",
       "      <td>0.000090</td>\n",
       "      <td>0.024480</td>\n",
       "      <td>0.004196</td>\n",
       "      <td>0.510664</td>\n",
       "      <td>1.000000</td>\n",
       "      <td>0.004105</td>\n",
       "      <td>0.021599</td>\n",
       "      <td>0.034699</td>\n",
       "      <td>0.006720</td>\n",
       "      <td>0.165818</td>\n",
       "    </tr>\n",
       "    <tr>\n",
       "      <th>ram</th>\n",
       "      <td>-0.000653</td>\n",
       "      <td>0.003443</td>\n",
       "      <td>0.015099</td>\n",
       "      <td>0.032813</td>\n",
       "      <td>-0.009434</td>\n",
       "      <td>-0.002581</td>\n",
       "      <td>0.004868</td>\n",
       "      <td>0.028984</td>\n",
       "      <td>-0.020352</td>\n",
       "      <td>0.004105</td>\n",
       "      <td>1.000000</td>\n",
       "      <td>0.015996</td>\n",
       "      <td>0.035576</td>\n",
       "      <td>0.010820</td>\n",
       "      <td>0.917046</td>\n",
       "    </tr>\n",
       "    <tr>\n",
       "      <th>sc_h</th>\n",
       "      <td>-0.029959</td>\n",
       "      <td>-0.029078</td>\n",
       "      <td>-0.011014</td>\n",
       "      <td>0.037771</td>\n",
       "      <td>-0.025348</td>\n",
       "      <td>-0.033855</td>\n",
       "      <td>-0.000315</td>\n",
       "      <td>0.004938</td>\n",
       "      <td>0.059615</td>\n",
       "      <td>0.021599</td>\n",
       "      <td>0.015996</td>\n",
       "      <td>1.000000</td>\n",
       "      <td>0.506144</td>\n",
       "      <td>-0.017335</td>\n",
       "      <td>0.022986</td>\n",
       "    </tr>\n",
       "    <tr>\n",
       "      <th>sc_w</th>\n",
       "      <td>-0.021421</td>\n",
       "      <td>-0.007378</td>\n",
       "      <td>-0.012373</td>\n",
       "      <td>0.011731</td>\n",
       "      <td>-0.018388</td>\n",
       "      <td>-0.020761</td>\n",
       "      <td>0.025826</td>\n",
       "      <td>-0.023819</td>\n",
       "      <td>0.043038</td>\n",
       "      <td>0.034699</td>\n",
       "      <td>0.035576</td>\n",
       "      <td>0.506144</td>\n",
       "      <td>1.000000</td>\n",
       "      <td>-0.022821</td>\n",
       "      <td>0.038711</td>\n",
       "    </tr>\n",
       "    <tr>\n",
       "      <th>talk_time</th>\n",
       "      <td>0.052510</td>\n",
       "      <td>-0.011432</td>\n",
       "      <td>-0.006829</td>\n",
       "      <td>-0.002790</td>\n",
       "      <td>0.017003</td>\n",
       "      <td>0.006209</td>\n",
       "      <td>0.013148</td>\n",
       "      <td>0.014657</td>\n",
       "      <td>-0.010645</td>\n",
       "      <td>0.006720</td>\n",
       "      <td>0.010820</td>\n",
       "      <td>-0.017335</td>\n",
       "      <td>-0.022821</td>\n",
       "      <td>1.000000</td>\n",
       "      <td>0.021859</td>\n",
       "    </tr>\n",
       "    <tr>\n",
       "      <th>price_range</th>\n",
       "      <td>0.200723</td>\n",
       "      <td>-0.006606</td>\n",
       "      <td>0.021998</td>\n",
       "      <td>0.044435</td>\n",
       "      <td>0.000853</td>\n",
       "      <td>-0.030302</td>\n",
       "      <td>0.004399</td>\n",
       "      <td>0.033599</td>\n",
       "      <td>0.148858</td>\n",
       "      <td>0.165818</td>\n",
       "      <td>0.917046</td>\n",
       "      <td>0.022986</td>\n",
       "      <td>0.038711</td>\n",
       "      <td>0.021859</td>\n",
       "      <td>1.000000</td>\n",
       "    </tr>\n",
       "  </tbody>\n",
       "</table>\n",
       "</div>"
      ],
      "text/plain": [
       "               battery_power  clock_speed        fc  int_memory     m_dep  \\\n",
       "battery_power       1.000000     0.011482  0.033334   -0.004004  0.034085   \n",
       "clock_speed         0.011482     1.000000 -0.000434    0.006545 -0.014364   \n",
       "fc                  0.033334    -0.000434  1.000000   -0.029133 -0.001791   \n",
       "int_memory         -0.004004     0.006545 -0.029133    1.000000  0.006886   \n",
       "m_dep               0.034085    -0.014364 -0.001791    0.006886  1.000000   \n",
       "mobile_wt           0.001844     0.012350  0.023618   -0.034214  0.021756   \n",
       "n_cores            -0.029727    -0.005724 -0.013356   -0.028310 -0.003504   \n",
       "pc                  0.031441    -0.005245  0.644595   -0.033273  0.026282   \n",
       "px_height           0.014901    -0.014523 -0.009990    0.010441  0.025263   \n",
       "px_width           -0.008402    -0.009476 -0.005176   -0.008335  0.023566   \n",
       "ram                -0.000653     0.003443  0.015099    0.032813 -0.009434   \n",
       "sc_h               -0.029959    -0.029078 -0.011014    0.037771 -0.025348   \n",
       "sc_w               -0.021421    -0.007378 -0.012373    0.011731 -0.018388   \n",
       "talk_time           0.052510    -0.011432 -0.006829   -0.002790  0.017003   \n",
       "price_range         0.200723    -0.006606  0.021998    0.044435  0.000853   \n",
       "\n",
       "               mobile_wt   n_cores        pc  px_height  px_width       ram  \\\n",
       "battery_power   0.001844 -0.029727  0.031441   0.014901 -0.008402 -0.000653   \n",
       "clock_speed     0.012350 -0.005724 -0.005245  -0.014523 -0.009476  0.003443   \n",
       "fc              0.023618 -0.013356  0.644595  -0.009990 -0.005176  0.015099   \n",
       "int_memory     -0.034214 -0.028310 -0.033273   0.010441 -0.008335  0.032813   \n",
       "m_dep           0.021756 -0.003504  0.026282   0.025263  0.023566 -0.009434   \n",
       "mobile_wt       1.000000 -0.018989  0.018844   0.000939  0.000090 -0.002581   \n",
       "n_cores        -0.018989  1.000000 -0.001193  -0.006872  0.024480  0.004868   \n",
       "pc              0.018844 -0.001193  1.000000  -0.018465  0.004196  0.028984   \n",
       "px_height       0.000939 -0.006872 -0.018465   1.000000  0.510664 -0.020352   \n",
       "px_width        0.000090  0.024480  0.004196   0.510664  1.000000  0.004105   \n",
       "ram            -0.002581  0.004868  0.028984  -0.020352  0.004105  1.000000   \n",
       "sc_h           -0.033855 -0.000315  0.004938   0.059615  0.021599  0.015996   \n",
       "sc_w           -0.020761  0.025826 -0.023819   0.043038  0.034699  0.035576   \n",
       "talk_time       0.006209  0.013148  0.014657  -0.010645  0.006720  0.010820   \n",
       "price_range    -0.030302  0.004399  0.033599   0.148858  0.165818  0.917046   \n",
       "\n",
       "                   sc_h      sc_w  talk_time  price_range  \n",
       "battery_power -0.029959 -0.021421   0.052510     0.200723  \n",
       "clock_speed   -0.029078 -0.007378  -0.011432    -0.006606  \n",
       "fc            -0.011014 -0.012373  -0.006829     0.021998  \n",
       "int_memory     0.037771  0.011731  -0.002790     0.044435  \n",
       "m_dep         -0.025348 -0.018388   0.017003     0.000853  \n",
       "mobile_wt     -0.033855 -0.020761   0.006209    -0.030302  \n",
       "n_cores       -0.000315  0.025826   0.013148     0.004399  \n",
       "pc             0.004938 -0.023819   0.014657     0.033599  \n",
       "px_height      0.059615  0.043038  -0.010645     0.148858  \n",
       "px_width       0.021599  0.034699   0.006720     0.165818  \n",
       "ram            0.015996  0.035576   0.010820     0.917046  \n",
       "sc_h           1.000000  0.506144  -0.017335     0.022986  \n",
       "sc_w           0.506144  1.000000  -0.022821     0.038711  \n",
       "talk_time     -0.017335 -0.022821   1.000000     0.021859  \n",
       "price_range    0.022986  0.038711   0.021859     1.000000  "
      ]
     },
     "execution_count": 27,
     "metadata": {},
     "output_type": "execute_result"
    }
   ],
   "source": [
    "# Checking Co-relation\n",
    "data_corr = mobile_data.corr()\n",
    "data_corr"
   ]
  },
  {
   "cell_type": "code",
   "execution_count": 28,
   "metadata": {},
   "outputs": [
    {
     "data": {
      "image/png": "[encoded data removed]",
      "text/plain": [
       "<Figure size 1440x1440 with 2 Axes>"
      ]
     },
     "metadata": {
      "needs_background": "light"
     },
     "output_type": "display_data"
    }
   ],
   "source": [
    "plt.figure(figsize=(20,20))\n",
    "sns.heatmap(data_corr, annot=True, cmap=\"coolwarm\")\n",
    "plt.show()"
   ]
  },
  {
   "cell_type": "markdown",
   "metadata": {},
   "source": [
    "No high co-relation so no need to drop any variable"
   ]
  },
  {
   "cell_type": "code",
   "execution_count": 29,
   "metadata": {},
   "outputs": [],
   "source": [
    "# Creating X independent and Y dependent variable\n",
    "\n",
    "X = mobile_data.drop([\"price_range\"], axis=1)\n",
    "Y = mobile_data[\"price_range\"]"
   ]
  },
  {
   "cell_type": "code",
   "execution_count": 30,
   "metadata": {
    "scrolled": true
   },
   "outputs": [
    {
     "name": "stdout",
     "output_type": "stream",
     "text": [
      "(2000, 14)\n",
      "(2000,)\n"
     ]
    }
   ],
   "source": [
    "print(X.shape)\n",
    "print(Y.shape)"
   ]
  },
  {
   "cell_type": "code",
   "execution_count": 31,
   "metadata": {},
   "outputs": [],
   "source": [
    "# Split the data into test and train\n",
    "\n",
    "from sklearn.model_selection import train_test_split\n",
    "\n",
    "#80-20 data\n",
    "X_train, X_test, Y_train, Y_test = train_test_split(X, Y, test_size=0.2, random_state=10)"
   ]
  },
  {
   "cell_type": "code",
   "execution_count": 32,
   "metadata": {},
   "outputs": [
    {
     "name": "stdout",
     "output_type": "stream",
     "text": [
      "(1600, 14)\n",
      "(1600,)\n",
      "(400, 14)\n",
      "(400,)\n"
     ]
    }
   ],
   "source": [
    "print(X_train.shape)\n",
    "print(Y_train.shape)\n",
    "print(X_test.shape)\n",
    "print(Y_test.shape)"
   ]
  },
  {
   "cell_type": "code",
   "execution_count": 33,
   "metadata": {},
   "outputs": [],
   "source": [
    "from sklearn.preprocessing import StandardScaler\n",
    "\n",
    "scaler=StandardScaler()\n",
    "\n",
    "scaler.fit(X_train)\n",
    "\n",
    "X_train=scaler.transform(X_train)\n",
    "\n",
    "X_test=scaler.transform(X_test)"
   ]
  },
  {
   "cell_type": "markdown",
   "metadata": {},
   "source": [
    "# BUILDING THE MODEL"
   ]
  },
  {
   "cell_type": "markdown",
   "metadata": {},
   "source": [
    "Predicting using KNN:"
   ]
  },
  {
   "cell_type": "code",
   "execution_count": 34,
   "metadata": {},
   "outputs": [
    {
     "name": "stdout",
     "output_type": "stream",
     "text": [
      "[(3, 3), (3, 2), (2, 1), (3, 3), (1, 0), (3, 3), (3, 3), (3, 3), (1, 1), (3, 3), (2, 2), (3, 2), (0, 0), (1, 1), (0, 0), (3, 3), (2, 2), (3, 3), (2, 3), (2, 2), (3, 3), (2, 2), (0, 0), (1, 1), (0, 0), (0, 1), (3, 3), (3, 3), (1, 1), (1, 1), (2, 2), (0, 1), (3, 3), (2, 2), (2, 2), (2, 2), (1, 1), (1, 0), (2, 3), (0, 0), (3, 3), (2, 1), (2, 1), (0, 1), (1, 1), (3, 3), (1, 1), (0, 0), (1, 0), (2, 2), (1, 1), (3, 3), (2, 2), (3, 3), (2, 3), (3, 3), (2, 2), (3, 3), (0, 0), (0, 0), (1, 1), (1, 2), (0, 0), (0, 0), (2, 2), (0, 0), (2, 2), (1, 1), (1, 2), (3, 2), (2, 3), (2, 2), (1, 1), (1, 0), (3, 3), (2, 1), (3, 2), (3, 3), (2, 2), (1, 1), (3, 2), (0, 0), (1, 1), (0, 0), (0, 0), (3, 3), (2, 2), (3, 2), (3, 3), (3, 3), (2, 2), (3, 2), (3, 3), (3, 3), (3, 3), (1, 1), (0, 0), (1, 1), (0, 0), (1, 1), (3, 2), (0, 0), (1, 1), (2, 1), (1, 1), (3, 3), (2, 3), (1, 1), (2, 1), (2, 1), (2, 2), (0, 0), (3, 3), (1, 1), (2, 2), (1, 0), (1, 1), (2, 1), (3, 3), (0, 0), (1, 1), (0, 0), (3, 3), (2, 3), (1, 1), (3, 3), (0, 1), (3, 3), (2, 2), (0, 0), (3, 3), (3, 2), (3, 3), (1, 1), (2, 3), (0, 0), (0, 0), (3, 1), (3, 2), (1, 1), (3, 2), (0, 0), (3, 3), (3, 3), (0, 0), (3, 3), (2, 1), (1, 2), (2, 2), (0, 0), (1, 2), (0, 0), (0, 0), (1, 3), (1, 1), (1, 1), (0, 0), (0, 0), (2, 2), (1, 0), (1, 1), (2, 3), (3, 3), (2, 2), (2, 2), (2, 2), (0, 1), (1, 1), (1, 2), (1, 1), (3, 3), (3, 3), (3, 3), (2, 2), (0, 1), (2, 2), (3, 3), (2, 1), (2, 2), (2, 3), (1, 1), (2, 2), (2, 2), (2, 2), (3, 3), (0, 1), (2, 1), (3, 3), (0, 0), (2, 2), (0, 0), (2, 2), (1, 0), (3, 3), (2, 2), (0, 0), (0, 0), (0, 0), (0, 0), (3, 2), (1, 1), (3, 2), (3, 3), (3, 2), (2, 3), (2, 2), (1, 2), (2, 2), (2, 2), (1, 1), (2, 2), (2, 1), (1, 1), (3, 3), (2, 2), (0, 0), (3, 2), (1, 1), (2, 2), (1, 1), (3, 3), (2, 2), (0, 0), (3, 3), (0, 0), (1, 1), (2, 2), (2, 2), (1, 1), (1, 1), (1, 1), (1, 1), (0, 0), (3, 3), (0, 0), (1, 2), (0, 0), (2, 2), (0, 0), (3, 3), (1, 1), (2, 2), (0, 1), (1, 1), (1, 0), (2, 2), (2, 2), (3, 3), (0, 0), (3, 2), (2, 2), (1, 1), (0, 0), (3, 3), (2, 1), (1, 2), (2, 2), (1, 1), (0, 0), (3, 3), (3, 3), (1, 1), (1, 2), (1, 2), (3, 3), (2, 2), (3, 2), (0, 0), (2, 2), (2, 1), (2, 2), (2, 2), (0, 0), (3, 3), (0, 0), (3, 3), (1, 1), (1, 2), (2, 2), (0, 0), (3, 3), (3, 3), (0, 0), (1, 0), (1, 1), (1, 2), (3, 2), (0, 0), (0, 0), (2, 1), (1, 0), (0, 0), (2, 3), (2, 3), (2, 1), (1, 1), (2, 2), (0, 1), (0, 0), (3, 2), (1, 2), (3, 2), (2, 2), (2, 2), (1, 1), (0, 0), (1, 2), (1, 2), (2, 1), (1, 1), (0, 0), (1, 1), (1, 2), (2, 2), (2, 1), (0, 0), (0, 0), (0, 0), (3, 2), (3, 3), (0, 0), (1, 1), (0, 0), (2, 2), (0, 1), (0, 0), (2, 3), (1, 1), (2, 2), (3, 3), (1, 1), (1, 1), (1, 1), (1, 1), (2, 1), (2, 2), (2, 2), (2, 2), (2, 2), (2, 3), (2, 1), (2, 1), (3, 2), (0, 0), (2, 3), (1, 0), (1, 1), (3, 3), (0, 0), (1, 1), (0, 0), (1, 1), (3, 2), (2, 2), (3, 3), (3, 3), (0, 0), (3, 3), (3, 3), (1, 1), (1, 0), (2, 2), (0, 0), (3, 2), (0, 1), (3, 2), (2, 2), (0, 1), (2, 2), (0, 0), (0, 0), (3, 3), (0, 0), (1, 1), (2, 2), (2, 1), (0, 0), (3, 3), (0, 0), (0, 0), (3, 2), (2, 1), (0, 0), (0, 0), (0, 0), (3, 2), (1, 0), (3, 3), (3, 3), (1, 0), (0, 0), (2, 1), (0, 0), (3, 2), (3, 2), (3, 3), (1, 1), (0, 0), (2, 2), (1, 1)]\n"
     ]
    }
   ],
   "source": [
    "from sklearn.neighbors import KNeighborsClassifier\n",
    "\n",
    "model_KNN = KNeighborsClassifier(n_neighbors=int(np.sqrt(len(X_train))), metric=\"euclidean\") # k=40\n",
    "\n",
    "# X_train-->(1600, 14)... 1600sqrt-40\n",
    "\n",
    "model_KNN.fit(X_train,Y_train)\n",
    "\n",
    "Y_pred = model_KNN.predict(X_test) \n",
    "\n",
    "print(list(zip(Y_test,Y_pred))) \n",
    "\n",
    "#(3,3)-->in test it was V.HIGH and on predicting it still shows V.HIGH ....correct ans by model\n",
    "#(2,1)-->in test it was HIGH and on predicting it shows MEDIUM....incorrect ans by model"
   ]
  },
  {
   "cell_type": "code",
   "execution_count": 35,
   "metadata": {},
   "outputs": [
    {
     "name": "stdout",
     "output_type": "stream",
     "text": [
      "[[80 12  0  0]\n",
      " [14 66 16  1]\n",
      " [ 0 24 70 15]\n",
      " [ 0  1 29 72]]\n",
      "Classification report: \n",
      "              precision    recall  f1-score   support\n",
      "\n",
      "           0       0.85      0.87      0.86        92\n",
      "           1       0.64      0.68      0.66        97\n",
      "           2       0.61      0.64      0.62       109\n",
      "           3       0.82      0.71      0.76       102\n",
      "\n",
      "    accuracy                           0.72       400\n",
      "   macro avg       0.73      0.72      0.73       400\n",
      "weighted avg       0.73      0.72      0.72       400\n",
      "\n",
      "Accuracy of the model:  0.72\n"
     ]
    }
   ],
   "source": [
    "from sklearn.metrics import confusion_matrix, accuracy_score, classification_report\n",
    "\n",
    "cfm=confusion_matrix(Y_test,Y_pred)\n",
    "print(cfm)\n",
    "\n",
    "print(\"Classification report: \")\n",
    "print(classification_report(Y_test,Y_pred))\n",
    "\n",
    "acc=accuracy_score(Y_test, Y_pred)\n",
    "print(\"Accuracy of the model: \",acc)\n",
    "\n",
    "# 80,66,70,72 are the correct ones\n",
    "# Total 112 Missclassifications (12+14+16+1+24+15+1+29)"
   ]
  },
  {
   "cell_type": "code",
   "execution_count": 36,
   "metadata": {},
   "outputs": [
    {
     "name": "stdout",
     "output_type": "stream",
     "text": [
      "Accuracy is  0.5325 for K-Value: 1\n",
      "Accuracy is  0.52 for K-Value: 2\n",
      "Accuracy is  0.53 for K-Value: 3\n",
      "Accuracy is  0.5525 for K-Value: 4\n",
      "Accuracy is  0.575 for K-Value: 5\n",
      "Accuracy is  0.5825 for K-Value: 6\n",
      "Accuracy is  0.5675 for K-Value: 7\n",
      "Accuracy is  0.59 for K-Value: 8\n",
      "Accuracy is  0.5925 for K-Value: 9\n",
      "Accuracy is  0.6225 for K-Value: 10\n",
      "Accuracy is  0.6275 for K-Value: 11\n",
      "Accuracy is  0.64 for K-Value: 12\n",
      "Accuracy is  0.63 for K-Value: 13\n",
      "Accuracy is  0.64 for K-Value: 14\n",
      "Accuracy is  0.64 for K-Value: 15\n",
      "Accuracy is  0.6625 for K-Value: 16\n",
      "Accuracy is  0.6575 for K-Value: 17\n",
      "Accuracy is  0.685 for K-Value: 18\n",
      "Accuracy is  0.69 for K-Value: 19\n",
      "Accuracy is  0.6775 for K-Value: 20\n",
      "Accuracy is  0.66 for K-Value: 21\n",
      "Accuracy is  0.68 for K-Value: 22\n",
      "Accuracy is  0.7 for K-Value: 23\n",
      "Accuracy is  0.6925 for K-Value: 24\n",
      "Accuracy is  0.69 for K-Value: 25\n",
      "Accuracy is  0.6875 for K-Value: 26\n",
      "Accuracy is  0.685 for K-Value: 27\n",
      "Accuracy is  0.695 for K-Value: 28\n",
      "Accuracy is  0.6775 for K-Value: 29\n",
      "Accuracy is  0.675 for K-Value: 30\n",
      "Accuracy is  0.6875 for K-Value: 31\n",
      "Accuracy is  0.68 for K-Value: 32\n",
      "Accuracy is  0.69 for K-Value: 33\n",
      "Accuracy is  0.695 for K-Value: 34\n",
      "Accuracy is  0.6925 for K-Value: 35\n",
      "Accuracy is  0.695 for K-Value: 36\n",
      "Accuracy is  0.7125 for K-Value: 37\n",
      "Accuracy is  0.7 for K-Value: 38\n",
      "Accuracy is  0.7125 for K-Value: 39\n",
      "Accuracy is  0.72 for K-Value: 40\n"
     ]
    }
   ],
   "source": [
    "from sklearn.metrics import accuracy_score\n",
    "\n",
    "my_dict={}\n",
    "\n",
    "for K in range(1,41):                # since k=40 \n",
    "    model_KNN = KNeighborsClassifier(n_neighbors=K,metric=\"euclidean\")\n",
    "    model_KNN.fit(X_train, Y_train) \n",
    "    Y_pred = model_KNN.predict(X_test)\n",
    "    print (\"Accuracy is \", accuracy_score(Y_test,Y_pred), \"for K-Value:\",K)\n",
    "    \n",
    "    my_dict[K]=accuracy_score(Y_test,Y_pred)\n",
    "    \n",
    "\n",
    "#here,removing individual Accuracy score for all K values from 1 to 40\n",
    "#above,removed Accuracy Score for value k=40... "
   ]
  },
  {
   "cell_type": "markdown",
   "metadata": {},
   "source": [
    "When K=40 we get highest Accuracy Score"
   ]
  },
  {
   "cell_type": "code",
   "execution_count": 37,
   "metadata": {},
   "outputs": [
    {
     "name": "stdout",
     "output_type": "stream",
     "text": [
      "[(3, 3), (3, 2), (2, 1), (3, 3), (1, 0), (3, 3), (3, 3), (3, 3), (1, 1), (3, 3), (2, 2), (3, 3), (0, 0), (1, 1), (0, 0), (3, 3), (2, 1), (3, 3), (2, 3), (2, 2), (3, 3), (2, 2), (0, 0), (1, 1), (0, 0), (0, 0), (3, 2), (3, 3), (1, 1), (1, 1), (2, 2), (0, 1), (3, 3), (2, 2), (2, 2), (2, 2), (1, 1), (1, 0), (2, 1), (0, 0), (3, 3), (2, 2), (2, 1), (0, 0), (1, 1), (3, 3), (1, 1), (0, 0), (1, 0), (2, 2), (1, 1), (3, 3), (2, 2), (3, 2), (2, 2), (3, 3), (2, 2), (3, 3), (0, 0), (0, 0), (1, 1), (1, 2), (0, 0), (0, 0), (2, 2), (0, 0), (2, 2), (1, 0), (1, 2), (3, 2), (2, 3), (2, 2), (1, 1), (1, 1), (3, 3), (2, 2), (3, 3), (3, 3), (2, 2), (1, 1), (3, 2), (0, 0), (1, 1), (0, 0), (0, 0), (3, 3), (2, 2), (3, 3), (3, 3), (3, 3), (2, 1), (3, 3), (3, 3), (3, 3), (3, 3), (1, 1), (0, 0), (1, 0), (0, 1), (1, 1), (3, 2), (0, 0), (1, 1), (2, 2), (1, 2), (3, 3), (2, 1), (1, 1), (2, 1), (2, 1), (2, 1), (0, 0), (3, 3), (1, 1), (2, 2), (1, 1), (1, 1), (2, 1), (3, 3), (0, 0), (1, 1), (0, 1), (3, 3), (2, 2), (1, 1), (3, 3), (0, 1), (3, 3), (2, 2), (0, 0), (3, 3), (3, 2), (3, 3), (1, 1), (2, 3), (0, 0), (0, 0), (3, 2), (3, 3), (1, 1), (3, 2), (0, 0), (3, 3), (3, 2), (0, 0), (3, 3), (2, 2), (1, 2), (2, 2), (0, 0), (1, 1), (0, 0), (0, 0), (1, 2), (1, 0), (1, 1), (0, 0), (0, 0), (2, 2), (1, 0), (1, 1), (2, 3), (3, 3), (2, 2), (2, 2), (2, 2), (0, 1), (1, 1), (1, 2), (1, 0), (3, 3), (3, 3), (3, 3), (2, 2), (0, 0), (2, 2), (3, 3), (2, 2), (2, 2), (2, 1), (1, 1), (2, 3), (2, 2), (2, 2), (3, 3), (0, 1), (2, 1), (3, 3), (0, 0), (2, 2), (0, 0), (2, 2), (1, 0), (3, 3), (2, 2), (0, 0), (0, 0), (0, 0), (0, 0), (3, 2), (1, 0), (3, 3), (3, 3), (3, 3), (2, 3), (2, 2), (1, 1), (2, 3), (2, 2), (1, 0), (2, 2), (2, 1), (1, 1), (3, 3), (2, 2), (0, 0), (3, 3), (1, 0), (2, 2), (1, 1), (3, 3), (2, 2), (0, 0), (3, 3), (0, 0), (1, 1), (2, 2), (2, 2), (1, 1), (1, 2), (1, 1), (1, 1), (0, 0), (3, 3), (0, 0), (1, 1), (0, 0), (2, 2), (0, 0), (3, 3), (1, 0), (2, 2), (0, 1), (1, 1), (1, 1), (2, 3), (2, 2), (3, 3), (0, 0), (3, 2), (2, 0), (1, 1), (0, 0), (3, 3), (2, 1), (1, 1), (2, 1), (1, 1), (0, 1), (3, 3), (3, 3), (1, 1), (1, 1), (1, 2), (3, 3), (2, 2), (3, 3), (0, 0), (2, 2), (2, 1), (2, 3), (2, 2), (0, 0), (3, 3), (0, 0), (3, 3), (1, 1), (1, 2), (2, 2), (0, 0), (3, 3), (3, 3), (0, 0), (1, 1), (1, 1), (1, 1), (3, 2), (0, 0), (0, 0), (2, 1), (1, 2), (0, 0), (2, 3), (2, 3), (2, 2), (1, 1), (2, 2), (0, 0), (0, 0), (3, 3), (1, 0), (3, 3), (2, 2), (2, 2), (1, 1), (0, 0), (1, 2), (1, 0), (2, 1), (1, 1), (0, 0), (1, 1), (1, 0), (2, 1), (2, 1), (0, 0), (0, 0), (0, 0), (3, 2), (3, 3), (0, 0), (1, 1), (0, 0), (2, 2), (0, 0), (0, 1), (2, 3), (1, 1), (2, 2), (3, 3), (1, 2), (1, 1), (1, 1), (1, 1), (2, 2), (2, 2), (2, 2), (2, 2), (2, 2), (2, 3), (2, 1), (2, 1), (3, 2), (0, 0), (2, 3), (1, 0), (1, 1), (3, 3), (0, 0), (1, 1), (0, 0), (1, 1), (3, 2), (2, 2), (3, 3), (3, 3), (0, 0), (3, 3), (3, 3), (1, 1), (1, 1), (2, 2), (0, 0), (3, 3), (0, 0), (3, 2), (2, 2), (0, 1), (2, 2), (0, 0), (0, 0), (3, 3), (0, 0), (1, 1), (2, 2), (2, 1), (0, 0), (3, 3), (0, 0), (0, 0), (3, 2), (2, 1), (0, 0), (0, 0), (0, 0), (3, 3), (1, 0), (3, 3), (3, 3), (1, 0), (0, 0), (2, 1), (0, 0), (3, 3), (3, 2), (3, 3), (1, 0), (0, 0), (2, 2), (1, 1)]\n"
     ]
    }
   ],
   "source": [
    "# NOW,trying with different metric MANHATTAN\n",
    "\n",
    "model_KNN=KNeighborsClassifier(n_neighbors=40,metric=\"manhattan\")         #k=40 from above\n",
    "\n",
    "#fit the model on the data and predict the values\n",
    "\n",
    "model_KNN.fit(X_train,Y_train)\n",
    "\n",
    "Y_pred=model_KNN.predict(X_test)\n",
    "\n",
    "print(list(zip(Y_test,Y_pred)))"
   ]
  },
  {
   "cell_type": "code",
   "execution_count": 38,
   "metadata": {
    "scrolled": true
   },
   "outputs": [
    {
     "name": "stdout",
     "output_type": "stream",
     "text": [
      "[[82 10  0  0]\n",
      " [20 65 12  0]\n",
      " [ 1 25 69 14]\n",
      " [ 0  0 19 83]]\n",
      "Classification report: \n",
      "              precision    recall  f1-score   support\n",
      "\n",
      "           0       0.80      0.89      0.84        92\n",
      "           1       0.65      0.67      0.66        97\n",
      "           2       0.69      0.63      0.66       109\n",
      "           3       0.86      0.81      0.83       102\n",
      "\n",
      "    accuracy                           0.75       400\n",
      "   macro avg       0.75      0.75      0.75       400\n",
      "weighted avg       0.75      0.75      0.75       400\n",
      "\n",
      "Accuracy of the model:  0.7475\n"
     ]
    }
   ],
   "source": [
    "cfm=confusion_matrix(Y_test,Y_pred)\n",
    "print(cfm)     \n",
    "\n",
    "print(\"Classification report: \")\n",
    "\n",
    "print(classification_report(Y_test,Y_pred))\n",
    "\n",
    "acc=accuracy_score(Y_test, Y_pred)\n",
    "print(\"Accuracy of the model: \",acc)\n"
   ]
  },
  {
   "cell_type": "code",
   "execution_count": 39,
   "metadata": {},
   "outputs": [
    {
     "name": "stdout",
     "output_type": "stream",
     "text": [
      "[(3, 3), (3, 2), (2, 1), (3, 3), (1, 0), (3, 3), (3, 3), (3, 3), (1, 1), (3, 3), (2, 2), (3, 2), (0, 0), (1, 1), (0, 0), (3, 3), (2, 2), (3, 3), (2, 3), (2, 2), (3, 3), (2, 2), (0, 0), (1, 1), (0, 0), (0, 1), (3, 3), (3, 3), (1, 1), (1, 1), (2, 2), (0, 1), (3, 3), (2, 2), (2, 2), (2, 2), (1, 1), (1, 0), (2, 3), (0, 0), (3, 3), (2, 1), (2, 1), (0, 1), (1, 1), (3, 3), (1, 1), (0, 0), (1, 0), (2, 2), (1, 1), (3, 3), (2, 2), (3, 3), (2, 3), (3, 3), (2, 2), (3, 3), (0, 0), (0, 0), (1, 1), (1, 2), (0, 0), (0, 0), (2, 2), (0, 0), (2, 2), (1, 1), (1, 2), (3, 2), (2, 3), (2, 2), (1, 1), (1, 0), (3, 3), (2, 1), (3, 2), (3, 3), (2, 2), (1, 1), (3, 2), (0, 0), (1, 1), (0, 0), (0, 0), (3, 3), (2, 2), (3, 2), (3, 3), (3, 3), (2, 2), (3, 2), (3, 3), (3, 3), (3, 3), (1, 1), (0, 0), (1, 1), (0, 0), (1, 1), (3, 2), (0, 0), (1, 1), (2, 1), (1, 1), (3, 3), (2, 3), (1, 1), (2, 1), (2, 1), (2, 2), (0, 0), (3, 3), (1, 1), (2, 2), (1, 0), (1, 1), (2, 1), (3, 3), (0, 0), (1, 1), (0, 0), (3, 3), (2, 3), (1, 1), (3, 3), (0, 1), (3, 3), (2, 2), (0, 0), (3, 3), (3, 2), (3, 3), (1, 1), (2, 3), (0, 0), (0, 0), (3, 1), (3, 2), (1, 1), (3, 2), (0, 0), (3, 3), (3, 3), (0, 0), (3, 3), (2, 1), (1, 2), (2, 2), (0, 0), (1, 2), (0, 0), (0, 0), (1, 3), (1, 1), (1, 1), (0, 0), (0, 0), (2, 2), (1, 0), (1, 1), (2, 3), (3, 3), (2, 2), (2, 2), (2, 2), (0, 1), (1, 1), (1, 2), (1, 1), (3, 3), (3, 3), (3, 3), (2, 2), (0, 1), (2, 2), (3, 3), (2, 1), (2, 2), (2, 3), (1, 1), (2, 2), (2, 2), (2, 2), (3, 3), (0, 1), (2, 1), (3, 3), (0, 0), (2, 2), (0, 0), (2, 2), (1, 0), (3, 3), (2, 2), (0, 0), (0, 0), (0, 0), (0, 0), (3, 2), (1, 1), (3, 2), (3, 3), (3, 2), (2, 3), (2, 2), (1, 2), (2, 2), (2, 2), (1, 1), (2, 2), (2, 1), (1, 1), (3, 3), (2, 2), (0, 0), (3, 2), (1, 1), (2, 2), (1, 1), (3, 3), (2, 2), (0, 0), (3, 3), (0, 0), (1, 1), (2, 2), (2, 2), (1, 1), (1, 1), (1, 1), (1, 1), (0, 0), (3, 3), (0, 0), (1, 2), (0, 0), (2, 2), (0, 0), (3, 3), (1, 1), (2, 2), (0, 1), (1, 1), (1, 0), (2, 2), (2, 2), (3, 3), (0, 0), (3, 2), (2, 2), (1, 1), (0, 0), (3, 3), (2, 1), (1, 2), (2, 2), (1, 1), (0, 0), (3, 3), (3, 3), (1, 1), (1, 2), (1, 2), (3, 3), (2, 2), (3, 2), (0, 0), (2, 2), (2, 1), (2, 2), (2, 2), (0, 0), (3, 3), (0, 0), (3, 3), (1, 1), (1, 2), (2, 2), (0, 0), (3, 3), (3, 3), (0, 0), (1, 0), (1, 1), (1, 2), (3, 2), (0, 0), (0, 0), (2, 1), (1, 0), (0, 0), (2, 3), (2, 3), (2, 1), (1, 1), (2, 2), (0, 1), (0, 0), (3, 2), (1, 2), (3, 2), (2, 2), (2, 2), (1, 1), (0, 0), (1, 2), (1, 2), (2, 1), (1, 1), (0, 0), (1, 1), (1, 2), (2, 2), (2, 1), (0, 0), (0, 0), (0, 0), (3, 2), (3, 3), (0, 0), (1, 1), (0, 0), (2, 2), (0, 1), (0, 0), (2, 3), (1, 1), (2, 2), (3, 3), (1, 1), (1, 1), (1, 1), (1, 1), (2, 1), (2, 2), (2, 2), (2, 2), (2, 2), (2, 3), (2, 1), (2, 1), (3, 2), (0, 0), (2, 3), (1, 0), (1, 1), (3, 3), (0, 0), (1, 1), (0, 0), (1, 1), (3, 2), (2, 2), (3, 3), (3, 3), (0, 0), (3, 3), (3, 3), (1, 1), (1, 0), (2, 2), (0, 0), (3, 2), (0, 1), (3, 2), (2, 2), (0, 1), (2, 2), (0, 0), (0, 0), (3, 3), (0, 0), (1, 1), (2, 2), (2, 1), (0, 0), (3, 3), (0, 0), (0, 0), (3, 2), (2, 1), (0, 0), (0, 0), (0, 0), (3, 2), (1, 0), (3, 3), (3, 3), (1, 0), (0, 0), (2, 1), (0, 0), (3, 2), (3, 2), (3, 3), (1, 1), (0, 0), (2, 2), (1, 1)]\n"
     ]
    }
   ],
   "source": [
    "# NOW,trying with different metric MINKOWSKI \n",
    "\n",
    "model_KNN=KNeighborsClassifier(n_neighbors=40,metric=\"minkowski\")       #k=40 from above\n",
    "\n",
    "#fit the model on the data and predict the values\n",
    "\n",
    "model_KNN.fit(X_train,Y_train)\n",
    "\n",
    "Y_pred=model_KNN.predict(X_test)\n",
    "\n",
    "print(list(zip(Y_test,Y_pred)))"
   ]
  },
  {
   "cell_type": "code",
   "execution_count": 40,
   "metadata": {
    "scrolled": true
   },
   "outputs": [
    {
     "name": "stdout",
     "output_type": "stream",
     "text": [
      "[[80 12  0  0]\n",
      " [14 66 16  1]\n",
      " [ 0 24 70 15]\n",
      " [ 0  1 29 72]]\n",
      "Classification report: \n",
      "              precision    recall  f1-score   support\n",
      "\n",
      "           0       0.85      0.87      0.86        92\n",
      "           1       0.64      0.68      0.66        97\n",
      "           2       0.61      0.64      0.62       109\n",
      "           3       0.82      0.71      0.76       102\n",
      "\n",
      "    accuracy                           0.72       400\n",
      "   macro avg       0.73      0.72      0.73       400\n",
      "weighted avg       0.73      0.72      0.72       400\n",
      "\n",
      "Accuracy of the model:  0.72\n"
     ]
    }
   ],
   "source": [
    "cfm=confusion_matrix(Y_test,Y_pred)\n",
    "print(cfm)\n",
    "\n",
    "print(\"Classification report: \")\n",
    "\n",
    "print(classification_report(Y_test,Y_pred))\n",
    "\n",
    "acc=accuracy_score(Y_test, Y_pred)\n",
    "print(\"Accuracy of the model: \",acc)\n"
   ]
  },
  {
   "cell_type": "code",
   "execution_count": 41,
   "metadata": {},
   "outputs": [],
   "source": [
    "# Euclidean and Minkowski gave same Accuracy Score\n",
    "# Manhattan gave Highest Accuracy Score among all the metrics"
   ]
  },
  {
   "cell_type": "markdown",
   "metadata": {},
   "source": [
    "Predicting using Logistic Regression:"
   ]
  },
  {
   "cell_type": "code",
   "execution_count": 42,
   "metadata": {
    "scrolled": true
   },
   "outputs": [
    {
     "name": "stdout",
     "output_type": "stream",
     "text": [
      "[(3, 3), (3, 3), (2, 2), (3, 3), (1, 1), (3, 3), (3, 3), (3, 3), (1, 1), (3, 3), (2, 2), (3, 3), (0, 0), (1, 1), (0, 0), (3, 3), (2, 2), (3, 3), (2, 2), (2, 2), (3, 3), (2, 2), (0, 0), (1, 1), (0, 0), (0, 0), (3, 2), (3, 3), (1, 1), (1, 1), (2, 2), (0, 0), (3, 3), (2, 2), (2, 2), (2, 2), (1, 1), (1, 1), (2, 2), (0, 0), (3, 3), (2, 2), (2, 2), (0, 0), (1, 1), (3, 3), (1, 1), (0, 0), (1, 1), (2, 2), (1, 1), (3, 3), (2, 2), (3, 3), (2, 2), (3, 3), (2, 2), (3, 3), (0, 0), (0, 0), (1, 1), (1, 1), (0, 0), (0, 0), (2, 2), (0, 0), (2, 2), (1, 1), (1, 2), (3, 3), (2, 2), (2, 2), (1, 1), (1, 1), (3, 3), (2, 1), (3, 3), (3, 3), (2, 2), (1, 1), (3, 2), (0, 0), (1, 0), (0, 0), (0, 0), (3, 3), (2, 2), (3, 3), (3, 3), (3, 3), (2, 2), (3, 3), (3, 3), (3, 3), (3, 3), (1, 1), (0, 0), (1, 1), (0, 0), (1, 1), (3, 3), (0, 0), (1, 1), (2, 1), (1, 1), (3, 3), (2, 2), (1, 1), (2, 2), (2, 2), (2, 2), (0, 0), (3, 3), (1, 1), (2, 2), (1, 1), (1, 1), (2, 2), (3, 3), (0, 0), (1, 1), (0, 0), (3, 3), (2, 2), (1, 1), (3, 3), (0, 0), (3, 3), (2, 2), (0, 0), (3, 3), (3, 3), (3, 3), (1, 1), (2, 2), (0, 0), (0, 0), (3, 3), (3, 3), (1, 1), (3, 3), (0, 0), (3, 3), (3, 2), (0, 0), (3, 3), (2, 3), (1, 1), (2, 2), (0, 0), (1, 1), (0, 0), (0, 0), (1, 1), (1, 1), (1, 1), (0, 0), (0, 0), (2, 2), (1, 1), (1, 1), (2, 2), (3, 3), (2, 2), (2, 2), (2, 2), (0, 0), (1, 1), (1, 1), (1, 1), (3, 3), (3, 3), (3, 3), (2, 2), (0, 0), (2, 2), (3, 3), (2, 2), (2, 2), (2, 2), (1, 1), (2, 2), (2, 2), (2, 2), (3, 3), (0, 0), (2, 2), (3, 3), (0, 0), (2, 2), (0, 0), (2, 2), (1, 1), (3, 3), (2, 2), (0, 0), (0, 0), (0, 0), (0, 0), (3, 3), (1, 1), (3, 3), (3, 3), (3, 3), (2, 2), (2, 2), (1, 1), (2, 2), (2, 2), (1, 1), (2, 2), (2, 1), (1, 1), (3, 3), (2, 2), (0, 0), (3, 3), (1, 1), (2, 2), (1, 1), (3, 3), (2, 2), (0, 0), (3, 3), (0, 0), (1, 1), (2, 2), (2, 2), (1, 1), (1, 0), (1, 1), (1, 1), (0, 0), (3, 3), (0, 0), (1, 1), (0, 0), (2, 2), (0, 0), (3, 3), (1, 1), (2, 2), (0, 0), (1, 1), (1, 1), (2, 2), (2, 2), (3, 3), (0, 0), (3, 3), (2, 2), (1, 1), (0, 0), (3, 3), (2, 2), (1, 1), (2, 2), (1, 1), (0, 0), (3, 3), (3, 3), (1, 1), (1, 1), (1, 1), (3, 3), (2, 2), (3, 3), (0, 0), (2, 2), (2, 2), (2, 2), (2, 2), (0, 0), (3, 3), (0, 0), (3, 3), (1, 1), (1, 1), (2, 2), (0, 0), (3, 3), (3, 3), (0, 0), (1, 1), (1, 1), (1, 1), (3, 3), (0, 0), (0, 0), (2, 1), (1, 1), (0, 0), (2, 2), (2, 2), (2, 2), (1, 1), (2, 2), (0, 0), (0, 0), (3, 3), (1, 1), (3, 3), (2, 2), (2, 2), (1, 1), (0, 0), (1, 1), (1, 1), (2, 2), (1, 1), (0, 0), (1, 1), (1, 1), (2, 2), (2, 2), (0, 0), (0, 0), (0, 0), (3, 3), (3, 3), (0, 0), (1, 1), (0, 0), (2, 2), (0, 0), (0, 0), (2, 2), (1, 1), (2, 2), (3, 3), (1, 1), (1, 1), (1, 1), (1, 1), (2, 2), (2, 2), (2, 2), (2, 2), (2, 2), (2, 2), (2, 2), (2, 2), (3, 3), (0, 0), (2, 3), (1, 1), (1, 1), (3, 3), (0, 0), (1, 1), (0, 0), (1, 1), (3, 3), (2, 2), (3, 3), (3, 3), (0, 0), (3, 3), (3, 3), (1, 1), (1, 1), (2, 2), (0, 0), (3, 3), (0, 0), (3, 3), (2, 2), (0, 0), (2, 2), (0, 0), (0, 0), (3, 3), (0, 0), (1, 1), (2, 2), (2, 2), (0, 0), (3, 3), (0, 0), (0, 0), (3, 3), (2, 2), (0, 0), (0, 0), (0, 0), (3, 3), (1, 1), (3, 3), (3, 3), (1, 1), (0, 0), (2, 1), (0, 0), (3, 3), (3, 3), (3, 3), (1, 1), (0, 0), (2, 2), (1, 1)]\n"
     ]
    }
   ],
   "source": [
    "from sklearn.linear_model import LogisticRegression\n",
    "\n",
    "#create a model\n",
    "classifier = LogisticRegression(multi_class=\"multinomial\",random_state=10)  #since,we've multiclass\n",
    "\n",
    "#fitting training data to the model and predict the values\n",
    "classifier.fit(X_train,Y_train)\n",
    "\n",
    "Y_pred=classifier.predict(X_test) \n",
    "print(list(zip(Y_test,Y_pred)))"
   ]
  },
  {
   "cell_type": "code",
   "execution_count": 43,
   "metadata": {},
   "outputs": [
    {
     "name": "stdout",
     "output_type": "stream",
     "text": [
      "[[ 92   0   0   0]\n",
      " [  2  94   1   0]\n",
      " [  0   5 102   2]\n",
      " [  0   0   3  99]]\n",
      "Classification report: \n",
      "              precision    recall  f1-score   support\n",
      "\n",
      "           0       0.98      1.00      0.99        92\n",
      "           1       0.95      0.97      0.96        97\n",
      "           2       0.96      0.94      0.95       109\n",
      "           3       0.98      0.97      0.98       102\n",
      "\n",
      "    accuracy                           0.97       400\n",
      "   macro avg       0.97      0.97      0.97       400\n",
      "weighted avg       0.97      0.97      0.97       400\n",
      "\n",
      "Accuracy of the model:  0.9675\n"
     ]
    }
   ],
   "source": [
    "cfm = confusion_matrix(Y_test,Y_pred)\n",
    "print(cfm)  \n",
    "\n",
    "print(\"Classification report: \")\n",
    "\n",
    "print(classification_report(Y_test,Y_pred))\n",
    "\n",
    "acc=accuracy_score(Y_test, Y_pred)\n",
    "print(\"Accuracy of the model: \",acc)\n",
    "\n",
    "# 2,1,5,2,3 are the MISSCLASSIFICATIONS"
   ]
  },
  {
   "cell_type": "code",
   "execution_count": 44,
   "metadata": {},
   "outputs": [
    {
     "data": {
      "image/png": "[encoded data removed]",
      "text/plain": [
       "<Figure size 504x360 with 2 Axes>"
      ]
     },
     "metadata": {
      "needs_background": "light"
     },
     "output_type": "display_data"
    }
   ],
   "source": [
    "# confusion matrix graph\n",
    "\n",
    "%matplotlib inline\n",
    "\n",
    "plt.figure(figsize=(7,5))\n",
    "sns.heatmap(cfm, annot=True)\n",
    "\n",
    "plt.xlabel(\"Predicted\")\n",
    "plt.ylabel(\"Actual\")\n",
    "\n",
    "plt.show()"
   ]
  },
  {
   "cell_type": "markdown",
   "metadata": {},
   "source": [
    "Logistic Regression gives higher accuracy than KNN...it means the data wasn't noisy as KNN is\n",
    "suitable for NOISY DATA"
   ]
  },
  {
   "cell_type": "markdown",
   "metadata": {},
   "source": [
    "Predicting using SVM Classifier:"
   ]
  },
  {
   "cell_type": "code",
   "execution_count": 45,
   "metadata": {},
   "outputs": [
    {
     "name": "stdout",
     "output_type": "stream",
     "text": [
      "[(3, 3), (3, 3), (2, 2), (3, 3), (1, 1), (3, 3), (3, 3), (3, 3), (1, 1), (3, 3), (2, 2), (3, 3), (0, 0), (1, 1), (0, 0), (3, 3), (2, 2), (3, 3), (2, 2), (2, 2), (3, 3), (2, 2), (0, 0), (1, 1), (0, 0), (0, 0), (3, 2), (3, 3), (1, 1), (1, 1), (2, 2), (0, 0), (3, 3), (2, 2), (2, 2), (2, 2), (1, 1), (1, 0), (2, 3), (0, 0), (3, 3), (2, 2), (2, 2), (0, 0), (1, 1), (3, 3), (1, 1), (0, 0), (1, 1), (2, 1), (1, 1), (3, 3), (2, 2), (3, 3), (2, 2), (3, 3), (2, 2), (3, 3), (0, 0), (0, 0), (1, 1), (1, 1), (0, 0), (0, 0), (2, 2), (0, 0), (2, 2), (1, 1), (1, 2), (3, 3), (2, 2), (2, 2), (1, 1), (1, 1), (3, 3), (2, 1), (3, 3), (3, 3), (2, 2), (1, 1), (3, 2), (0, 0), (1, 1), (0, 0), (0, 0), (3, 3), (2, 2), (3, 2), (3, 3), (3, 3), (2, 1), (3, 3), (3, 3), (3, 3), (3, 3), (1, 2), (0, 0), (1, 1), (0, 0), (1, 1), (3, 3), (0, 0), (1, 1), (2, 2), (1, 1), (3, 3), (2, 2), (1, 1), (2, 2), (2, 1), (2, 2), (0, 0), (3, 3), (1, 1), (2, 2), (1, 1), (1, 1), (2, 1), (3, 3), (0, 0), (1, 1), (0, 0), (3, 3), (2, 2), (1, 1), (3, 3), (0, 0), (3, 3), (2, 2), (0, 0), (3, 3), (3, 2), (3, 3), (1, 1), (2, 3), (0, 0), (0, 0), (3, 2), (3, 3), (1, 1), (3, 3), (0, 0), (3, 3), (3, 2), (0, 0), (3, 3), (2, 3), (1, 1), (2, 2), (0, 0), (1, 1), (0, 0), (0, 0), (1, 1), (1, 0), (1, 1), (0, 0), (0, 0), (2, 2), (1, 1), (1, 1), (2, 1), (3, 3), (2, 2), (2, 1), (2, 2), (0, 0), (1, 1), (1, 2), (1, 1), (3, 3), (3, 3), (3, 3), (2, 2), (0, 0), (2, 2), (3, 3), (2, 2), (2, 2), (2, 2), (1, 1), (2, 2), (2, 2), (2, 2), (3, 3), (0, 0), (2, 1), (3, 3), (0, 0), (2, 2), (0, 0), (2, 2), (1, 1), (3, 3), (2, 2), (0, 0), (0, 0), (0, 0), (0, 0), (3, 3), (1, 1), (3, 3), (3, 3), (3, 3), (2, 2), (2, 2), (1, 1), (2, 2), (2, 2), (1, 1), (2, 2), (2, 1), (1, 1), (3, 3), (2, 2), (0, 1), (3, 2), (1, 1), (2, 2), (1, 1), (3, 3), (2, 2), (0, 0), (3, 3), (0, 0), (1, 1), (2, 2), (2, 2), (1, 1), (1, 0), (1, 1), (1, 1), (0, 0), (3, 3), (0, 0), (1, 1), (0, 0), (2, 2), (0, 0), (3, 3), (1, 1), (2, 2), (0, 0), (1, 1), (1, 1), (2, 2), (2, 2), (3, 3), (0, 0), (3, 2), (2, 2), (1, 1), (0, 0), (3, 3), (2, 3), (1, 2), (2, 2), (1, 1), (0, 1), (3, 3), (3, 3), (1, 1), (1, 2), (1, 2), (3, 3), (2, 2), (3, 3), (0, 0), (2, 2), (2, 2), (2, 2), (2, 2), (0, 0), (3, 3), (0, 0), (3, 3), (1, 1), (1, 2), (2, 2), (0, 0), (3, 3), (3, 3), (0, 0), (1, 1), (1, 1), (1, 1), (3, 3), (0, 0), (0, 0), (2, 1), (1, 1), (0, 0), (2, 2), (2, 3), (2, 2), (1, 0), (2, 2), (0, 0), (0, 0), (3, 3), (1, 1), (3, 3), (2, 2), (2, 2), (1, 1), (0, 0), (1, 1), (1, 2), (2, 2), (1, 1), (0, 0), (1, 1), (1, 1), (2, 2), (2, 2), (0, 0), (0, 0), (0, 0), (3, 3), (3, 3), (0, 0), (1, 1), (0, 0), (2, 2), (0, 0), (0, 1), (2, 2), (1, 1), (2, 2), (3, 3), (1, 1), (1, 1), (1, 1), (1, 1), (2, 2), (2, 2), (2, 2), (2, 2), (2, 2), (2, 2), (2, 2), (2, 1), (3, 3), (0, 1), (2, 2), (1, 1), (1, 1), (3, 3), (0, 0), (1, 1), (0, 0), (1, 1), (3, 3), (2, 2), (3, 3), (3, 3), (0, 0), (3, 3), (3, 3), (1, 1), (1, 1), (2, 2), (0, 0), (3, 2), (0, 1), (3, 3), (2, 2), (0, 1), (2, 2), (0, 0), (0, 0), (3, 3), (0, 0), (1, 1), (2, 2), (2, 1), (0, 0), (3, 3), (0, 0), (0, 0), (3, 3), (2, 2), (0, 0), (0, 0), (0, 0), (3, 3), (1, 1), (3, 3), (3, 3), (1, 1), (0, 0), (2, 2), (0, 0), (3, 3), (3, 2), (3, 3), (1, 0), (0, 0), (2, 2), (1, 1)]\n"
     ]
    }
   ],
   "source": [
    "from sklearn.svm import SVC\n",
    "\n",
    "# create a model\n",
    "svm = SVC(kernel=\"rbf\", gamma=0.1, C=1, random_state=10) \n",
    "\n",
    "#fitting training data to the model and predict the values\n",
    "svm.fit(X_train,Y_train)\n",
    "\n",
    "Y_pred = svm.predict(X_test) \n",
    "#print(Y_pred)\n",
    "\n",
    "print(list(zip(Y_test,Y_pred)))"
   ]
  },
  {
   "cell_type": "code",
   "execution_count": 46,
   "metadata": {},
   "outputs": [
    {
     "name": "stdout",
     "output_type": "stream",
     "text": [
      "[[86  6  0  0]\n",
      " [ 5 84  8  0]\n",
      " [ 0 12 92  5]\n",
      " [ 0  0 10 92]]\n",
      "Classification report: \n",
      "              precision    recall  f1-score   support\n",
      "\n",
      "           0       0.95      0.93      0.94        92\n",
      "           1       0.82      0.87      0.84        97\n",
      "           2       0.84      0.84      0.84       109\n",
      "           3       0.95      0.90      0.92       102\n",
      "\n",
      "    accuracy                           0.89       400\n",
      "   macro avg       0.89      0.89      0.89       400\n",
      "weighted avg       0.89      0.89      0.89       400\n",
      "\n",
      "Accuracy of the model:  0.885\n"
     ]
    }
   ],
   "source": [
    "cfm=confusion_matrix(Y_test,Y_pred)\n",
    "print(cfm)\n",
    "\n",
    "print(\"Classification report: \")\n",
    "print(classification_report(Y_test,Y_pred))\n",
    "\n",
    "acc=accuracy_score(Y_test, Y_pred)\n",
    "print(\"Accuracy of the model: \",acc)"
   ]
  },
  {
   "cell_type": "markdown",
   "metadata": {},
   "source": [
    "Predicting using Decision Tree Classifier:"
   ]
  },
  {
   "cell_type": "code",
   "execution_count": 47,
   "metadata": {},
   "outputs": [
    {
     "name": "stdout",
     "output_type": "stream",
     "text": [
      "[(3, 2), (3, 3), (2, 1), (3, 3), (1, 1), (3, 3), (3, 3), (3, 3), (1, 1), (3, 3), (2, 2), (3, 3), (0, 0), (1, 1), (0, 0), (3, 3), (2, 2), (3, 3), (2, 2), (2, 2), (3, 3), (2, 2), (0, 0), (1, 1), (0, 0), (0, 0), (3, 2), (3, 3), (1, 1), (1, 1), (2, 1), (0, 0), (3, 3), (2, 3), (2, 2), (2, 2), (1, 1), (1, 0), (2, 2), (0, 0), (3, 3), (2, 2), (2, 3), (0, 0), (1, 1), (3, 3), (1, 1), (0, 0), (1, 1), (2, 1), (1, 1), (3, 3), (2, 2), (3, 2), (2, 2), (3, 3), (2, 2), (3, 3), (0, 0), (0, 0), (1, 1), (1, 1), (0, 1), (0, 0), (2, 2), (0, 0), (2, 2), (1, 0), (1, 2), (3, 3), (2, 3), (2, 1), (1, 1), (1, 1), (3, 3), (2, 1), (3, 3), (3, 3), (2, 2), (1, 1), (3, 3), (0, 1), (1, 1), (0, 0), (0, 0), (3, 3), (2, 1), (3, 3), (3, 3), (3, 3), (2, 1), (3, 2), (3, 3), (3, 3), (3, 3), (1, 1), (0, 0), (1, 1), (0, 1), (1, 1), (3, 3), (0, 0), (1, 1), (2, 2), (1, 2), (3, 3), (2, 2), (1, 1), (2, 2), (2, 1), (2, 2), (0, 0), (3, 3), (1, 2), (2, 1), (1, 1), (1, 1), (2, 1), (3, 3), (0, 0), (1, 1), (0, 1), (3, 3), (2, 2), (1, 1), (3, 3), (0, 0), (3, 3), (2, 1), (0, 0), (3, 3), (3, 3), (3, 3), (1, 1), (2, 2), (0, 0), (0, 0), (3, 2), (3, 3), (1, 1), (3, 2), (0, 0), (3, 3), (3, 3), (0, 0), (3, 3), (2, 2), (1, 2), (2, 2), (0, 0), (1, 1), (0, 0), (0, 0), (1, 1), (1, 1), (1, 1), (0, 0), (0, 0), (2, 3), (1, 0), (1, 1), (2, 2), (3, 3), (2, 3), (2, 2), (2, 2), (0, 1), (1, 1), (1, 2), (1, 1), (3, 3), (3, 3), (3, 3), (2, 2), (0, 0), (2, 2), (3, 3), (2, 2), (2, 1), (2, 2), (1, 1), (2, 2), (2, 2), (2, 2), (3, 3), (0, 0), (2, 1), (3, 3), (0, 0), (2, 3), (0, 1), (2, 2), (1, 1), (3, 3), (2, 2), (0, 0), (0, 0), (0, 0), (0, 0), (3, 3), (1, 1), (3, 3), (3, 3), (3, 3), (2, 2), (2, 1), (1, 2), (2, 1), (2, 2), (1, 1), (2, 2), (2, 1), (1, 1), (3, 3), (2, 2), (0, 1), (3, 3), (1, 1), (2, 2), (1, 1), (3, 3), (2, 2), (0, 0), (3, 3), (0, 1), (1, 1), (2, 2), (2, 2), (1, 1), (1, 1), (1, 1), (1, 1), (0, 0), (3, 3), (0, 0), (1, 1), (0, 0), (2, 2), (0, 0), (3, 3), (1, 1), (2, 2), (0, 0), (1, 1), (1, 0), (2, 2), (2, 2), (3, 3), (0, 0), (3, 2), (2, 1), (1, 1), (0, 0), (3, 3), (2, 2), (1, 1), (2, 2), (1, 1), (0, 1), (3, 3), (3, 3), (1, 1), (1, 1), (1, 1), (3, 3), (2, 2), (3, 3), (0, 0), (2, 2), (2, 2), (2, 2), (2, 2), (0, 0), (3, 3), (0, 0), (3, 3), (1, 1), (1, 1), (2, 3), (0, 0), (3, 3), (3, 3), (0, 0), (1, 1), (1, 1), (1, 1), (3, 3), (0, 0), (0, 0), (2, 1), (1, 2), (0, 0), (2, 3), (2, 3), (2, 2), (1, 1), (2, 2), (0, 0), (0, 0), (3, 3), (1, 1), (3, 3), (2, 2), (2, 2), (1, 1), (0, 0), (1, 2), (1, 2), (2, 2), (1, 1), (0, 0), (1, 1), (1, 1), (2, 1), (2, 2), (0, 0), (0, 0), (0, 0), (3, 3), (3, 3), (0, 1), (1, 1), (0, 0), (2, 2), (0, 0), (0, 1), (2, 2), (1, 1), (2, 2), (3, 3), (1, 2), (1, 1), (1, 1), (1, 0), (2, 2), (2, 2), (2, 1), (2, 2), (2, 2), (2, 2), (2, 2), (2, 2), (3, 3), (0, 0), (2, 2), (1, 1), (1, 1), (3, 3), (0, 1), (1, 1), (0, 0), (1, 1), (3, 2), (2, 2), (3, 3), (3, 3), (0, 0), (3, 3), (3, 3), (1, 1), (1, 2), (2, 2), (0, 0), (3, 3), (0, 0), (3, 3), (2, 3), (0, 0), (2, 1), (0, 0), (0, 0), (3, 3), (0, 0), (1, 1), (2, 2), (2, 1), (0, 0), (3, 3), (0, 0), (0, 0), (3, 3), (2, 2), (0, 0), (0, 0), (0, 0), (3, 3), (1, 1), (3, 3), (3, 3), (1, 1), (0, 0), (2, 2), (0, 0), (3, 3), (3, 3), (3, 3), (1, 0), (0, 0), (2, 2), (1, 1)]\n"
     ]
    }
   ],
   "source": [
    "from sklearn.tree import DecisionTreeClassifier\n",
    "\n",
    "model_DecisionTree = DecisionTreeClassifier(criterion=\"gini\",random_state=10)    \n",
    "\n",
    "#fit the model on the data and predict the values\n",
    "model_DecisionTree.fit(X_train,Y_train)\n",
    "\n",
    "Y_pred = model_DecisionTree.predict(X_test)\n",
    "\n",
    "print(list(zip(Y_test,Y_pred)))"
   ]
  },
  {
   "cell_type": "code",
   "execution_count": 48,
   "metadata": {},
   "outputs": [
    {
     "name": "stdout",
     "output_type": "stream",
     "text": [
      "[[80 12  0  0]\n",
      " [ 6 80 11  0]\n",
      " [ 0 22 77 10]\n",
      " [ 0  0  8 94]]\n",
      "Classification report: \n",
      "              precision    recall  f1-score   support\n",
      "\n",
      "           0       0.93      0.87      0.90        92\n",
      "           1       0.70      0.82      0.76        97\n",
      "           2       0.80      0.71      0.75       109\n",
      "           3       0.90      0.92      0.91       102\n",
      "\n",
      "    accuracy                           0.83       400\n",
      "   macro avg       0.83      0.83      0.83       400\n",
      "weighted avg       0.83      0.83      0.83       400\n",
      "\n",
      "Accuracy of the model:  0.8275\n"
     ]
    }
   ],
   "source": [
    "cfm=confusion_matrix(Y_test,Y_pred)\n",
    "print(cfm)\n",
    "\n",
    "print(\"Classification report: \")\n",
    "print(classification_report(Y_test,Y_pred))\n",
    "\n",
    "acc=accuracy_score(Y_test, Y_pred)\n",
    "print(\"Accuracy of the model: \",acc)"
   ]
  },
  {
   "cell_type": "markdown",
   "metadata": {},
   "source": [
    "Predicting using Random Forest Classifier:"
   ]
  },
  {
   "cell_type": "code",
   "execution_count": 49,
   "metadata": {},
   "outputs": [
    {
     "name": "stdout",
     "output_type": "stream",
     "text": [
      "[(3, 3), (3, 3), (2, 2), (3, 3), (1, 1), (3, 3), (3, 3), (3, 3), (1, 1), (3, 3), (2, 2), (3, 3), (0, 0), (1, 1), (0, 0), (3, 3), (2, 2), (3, 3), (2, 2), (2, 2), (3, 3), (2, 2), (0, 0), (1, 1), (0, 0), (0, 0), (3, 2), (3, 3), (1, 1), (1, 1), (2, 2), (0, 0), (3, 3), (2, 3), (2, 2), (2, 2), (1, 1), (1, 0), (2, 2), (0, 0), (3, 3), (2, 2), (2, 2), (0, 0), (1, 1), (3, 3), (1, 1), (0, 0), (1, 1), (2, 2), (1, 1), (3, 3), (2, 2), (3, 2), (2, 2), (3, 3), (2, 2), (3, 3), (0, 0), (0, 0), (1, 1), (1, 1), (0, 0), (0, 0), (2, 3), (0, 0), (2, 2), (1, 0), (1, 2), (3, 3), (2, 2), (2, 2), (1, 0), (1, 1), (3, 3), (2, 1), (3, 3), (3, 3), (2, 2), (1, 1), (3, 3), (0, 0), (1, 1), (0, 0), (0, 0), (3, 3), (2, 2), (3, 2), (3, 3), (3, 3), (2, 1), (3, 3), (3, 3), (3, 3), (3, 3), (1, 1), (0, 0), (1, 1), (0, 1), (1, 1), (3, 3), (0, 0), (1, 1), (2, 2), (1, 1), (3, 3), (2, 2), (1, 1), (2, 2), (2, 2), (2, 2), (0, 0), (3, 3), (1, 1), (2, 2), (1, 1), (1, 1), (2, 1), (3, 3), (0, 0), (1, 1), (0, 1), (3, 3), (2, 2), (1, 1), (3, 3), (0, 1), (3, 3), (2, 1), (0, 0), (3, 3), (3, 3), (3, 3), (1, 1), (2, 3), (0, 0), (0, 0), (3, 2), (3, 3), (1, 1), (3, 3), (0, 0), (3, 3), (3, 3), (0, 0), (3, 3), (2, 2), (1, 1), (2, 2), (0, 1), (1, 1), (0, 0), (0, 0), (1, 1), (1, 1), (1, 1), (0, 0), (0, 0), (2, 3), (1, 1), (1, 1), (2, 2), (3, 3), (2, 3), (2, 2), (2, 2), (0, 0), (1, 1), (1, 2), (1, 1), (3, 3), (3, 3), (3, 3), (2, 2), (0, 0), (2, 2), (3, 3), (2, 2), (2, 2), (2, 2), (1, 1), (2, 2), (2, 2), (2, 3), (3, 3), (0, 0), (2, 1), (3, 3), (0, 0), (2, 2), (0, 1), (2, 2), (1, 1), (3, 3), (2, 2), (0, 0), (0, 0), (0, 0), (0, 0), (3, 3), (1, 1), (3, 3), (3, 3), (3, 3), (2, 2), (2, 1), (1, 1), (2, 2), (2, 2), (1, 1), (2, 2), (2, 1), (1, 1), (3, 3), (2, 3), (0, 1), (3, 3), (1, 1), (2, 3), (1, 1), (3, 3), (2, 2), (0, 0), (3, 3), (0, 0), (1, 1), (2, 2), (2, 2), (1, 1), (1, 1), (1, 1), (1, 1), (0, 0), (3, 3), (0, 0), (1, 1), (0, 0), (2, 2), (0, 0), (3, 3), (1, 1), (2, 2), (0, 0), (1, 1), (1, 1), (2, 2), (2, 2), (3, 3), (0, 0), (3, 3), (2, 2), (1, 1), (0, 0), (3, 3), (2, 2), (1, 1), (2, 2), (1, 1), (0, 1), (3, 3), (3, 3), (1, 1), (1, 1), (1, 1), (3, 3), (2, 2), (3, 3), (0, 0), (2, 2), (2, 2), (2, 3), (2, 2), (0, 0), (3, 3), (0, 0), (3, 3), (1, 1), (1, 1), (2, 2), (0, 0), (3, 3), (3, 3), (0, 0), (1, 1), (1, 1), (1, 1), (3, 3), (0, 0), (0, 0), (2, 1), (1, 1), (0, 0), (2, 2), (2, 3), (2, 2), (1, 1), (2, 2), (0, 0), (0, 0), (3, 3), (1, 1), (3, 3), (2, 2), (2, 2), (1, 1), (0, 0), (1, 1), (1, 1), (2, 2), (1, 1), (0, 0), (1, 1), (1, 1), (2, 2), (2, 2), (0, 1), (0, 0), (0, 0), (3, 3), (3, 3), (0, 1), (1, 1), (0, 0), (2, 2), (0, 0), (0, 0), (2, 2), (1, 1), (2, 2), (3, 3), (1, 1), (1, 1), (1, 1), (1, 1), (2, 2), (2, 2), (2, 1), (2, 2), (2, 2), (2, 2), (2, 2), (2, 2), (3, 3), (0, 0), (2, 2), (1, 1), (1, 1), (3, 3), (0, 0), (1, 1), (0, 0), (1, 1), (3, 2), (2, 2), (3, 3), (3, 3), (0, 0), (3, 3), (3, 3), (1, 1), (1, 1), (2, 3), (0, 0), (3, 3), (0, 0), (3, 3), (2, 2), (0, 1), (2, 2), (0, 0), (0, 0), (3, 3), (0, 0), (1, 1), (2, 2), (2, 2), (0, 0), (3, 3), (0, 0), (0, 0), (3, 3), (2, 2), (0, 0), (0, 0), (0, 0), (3, 3), (1, 1), (3, 3), (3, 3), (1, 1), (0, 0), (2, 2), (0, 0), (3, 3), (3, 3), (3, 3), (1, 0), (0, 0), (2, 2), (1, 1)]\n"
     ]
    }
   ],
   "source": [
    "from sklearn.ensemble import RandomForestClassifier\n",
    "\n",
    "model_RandomForest=RandomForestClassifier(n_estimators=100,random_state=10,bootstrap=True,   \n",
    "                                         max_features=None)   \n",
    "\n",
    "#fit the model on the data and predict the values\n",
    "model_RandomForest.fit(X_train,Y_train)\n",
    "\n",
    "Y_pred = model_RandomForest.predict(X_test)\n",
    "#print(Y_pred)\n",
    "\n",
    "print(list(zip(Y_test,Y_pred)))"
   ]
  },
  {
   "cell_type": "code",
   "execution_count": 50,
   "metadata": {},
   "outputs": [
    {
     "name": "stdout",
     "output_type": "stream",
     "text": [
      "[[82 10  0  0]\n",
      " [ 4 91  2  0]\n",
      " [ 0  9 89 11]\n",
      " [ 0  0  5 97]]\n",
      "Classification report: \n",
      "              precision    recall  f1-score   support\n",
      "\n",
      "           0       0.95      0.89      0.92        92\n",
      "           1       0.83      0.94      0.88        97\n",
      "           2       0.93      0.82      0.87       109\n",
      "           3       0.90      0.95      0.92       102\n",
      "\n",
      "    accuracy                           0.90       400\n",
      "   macro avg       0.90      0.90      0.90       400\n",
      "weighted avg       0.90      0.90      0.90       400\n",
      "\n",
      "Accuracy of the model:  0.8975\n"
     ]
    }
   ],
   "source": [
    "cfm=confusion_matrix(Y_test,Y_pred)\n",
    "print(cfm)\n",
    "\n",
    "print(\"Classification report: \")\n",
    "print(classification_report(Y_test,Y_pred))\n",
    "\n",
    "acc=accuracy_score(Y_test, Y_pred)\n",
    "print(\"Accuracy of the model: \",acc)"
   ]
  },
  {
   "cell_type": "markdown",
   "metadata": {},
   "source": [
    "# Selecting the Best Model"
   ]
  },
  {
   "cell_type": "code",
   "execution_count": null,
   "metadata": {},
   "outputs": [],
   "source": [
    "\"\"\"\n",
    "KNN:\n",
    "Accuracy of the model: 0.7475 (with MANHATTAN METRIC)\n",
    "\n",
    "LOGISTIC REGRESSION:\n",
    "Accuracy of the model: 0.9675\n",
    "\n",
    "SVM:\n",
    "Accuracy of the model: 0.885\n",
    "\n",
    "DECISION TREE:\n",
    "Accuracy of the model: 0.8275\n",
    "\n",
    "RANDOM FOREST:\n",
    "Accuracy of the model: 0.8975\n",
    "\"\"\""
   ]
  },
  {
   "cell_type": "markdown",
   "metadata": {},
   "source": [
    "LOGISTIC REGRESSION IS THE BEST MODEL AMONG ALL WITH THE HIGHEST ACCURACY SCORE"
   ]
  },
  {
   "cell_type": "markdown",
   "metadata": {},
   "source": [
    "# TRAINING THE DATASET WITH LOGISTIC REGRESSION AND COMPARING WITH Y_TEST"
   ]
  },
  {
   "cell_type": "code",
   "execution_count": 51,
   "metadata": {},
   "outputs": [],
   "source": [
    "#fitting training data to the model and predicting\n",
    "classifier.fit(X_train,Y_train)\n",
    "\n",
    "Y_pred=classifier.predict(X_test) \n",
    "#print(Y_pred)\n"
   ]
  },
  {
   "cell_type": "code",
   "execution_count": 52,
   "metadata": {},
   "outputs": [
    {
     "data": {
      "text/html": [
       "<div>\n",
       "<style scoped>\n",
       "    .dataframe tbody tr th:only-of-type {\n",
       "        vertical-align: middle;\n",
       "    }\n",
       "\n",
       "    .dataframe tbody tr th {\n",
       "        vertical-align: top;\n",
       "    }\n",
       "\n",
       "    .dataframe thead th {\n",
       "        text-align: right;\n",
       "    }\n",
       "</style>\n",
       "<table border=\"1\" class=\"dataframe\">\n",
       "  <thead>\n",
       "    <tr style=\"text-align: right;\">\n",
       "      <th></th>\n",
       "      <th>Y_test/actual</th>\n",
       "      <th>Y_pred</th>\n",
       "    </tr>\n",
       "  </thead>\n",
       "  <tbody>\n",
       "    <tr>\n",
       "      <th>731</th>\n",
       "      <td>2</td>\n",
       "      <td>2</td>\n",
       "    </tr>\n",
       "    <tr>\n",
       "      <th>512</th>\n",
       "      <td>0</td>\n",
       "      <td>0</td>\n",
       "    </tr>\n",
       "    <tr>\n",
       "      <th>1831</th>\n",
       "      <td>1</td>\n",
       "      <td>1</td>\n",
       "    </tr>\n",
       "    <tr>\n",
       "      <th>191</th>\n",
       "      <td>2</td>\n",
       "      <td>2</td>\n",
       "    </tr>\n",
       "    <tr>\n",
       "      <th>1893</th>\n",
       "      <td>3</td>\n",
       "      <td>3</td>\n",
       "    </tr>\n",
       "    <tr>\n",
       "      <th>1655</th>\n",
       "      <td>3</td>\n",
       "      <td>3</td>\n",
       "    </tr>\n",
       "    <tr>\n",
       "      <th>1806</th>\n",
       "      <td>1</td>\n",
       "      <td>1</td>\n",
       "    </tr>\n",
       "    <tr>\n",
       "      <th>1915</th>\n",
       "      <td>2</td>\n",
       "      <td>2</td>\n",
       "    </tr>\n",
       "    <tr>\n",
       "      <th>1186</th>\n",
       "      <td>2</td>\n",
       "      <td>2</td>\n",
       "    </tr>\n",
       "    <tr>\n",
       "      <th>1227</th>\n",
       "      <td>2</td>\n",
       "      <td>2</td>\n",
       "    </tr>\n",
       "    <tr>\n",
       "      <th>1961</th>\n",
       "      <td>0</td>\n",
       "      <td>0</td>\n",
       "    </tr>\n",
       "    <tr>\n",
       "      <th>176</th>\n",
       "      <td>0</td>\n",
       "      <td>0</td>\n",
       "    </tr>\n",
       "    <tr>\n",
       "      <th>1798</th>\n",
       "      <td>1</td>\n",
       "      <td>1</td>\n",
       "    </tr>\n",
       "    <tr>\n",
       "      <th>935</th>\n",
       "      <td>3</td>\n",
       "      <td>2</td>\n",
       "    </tr>\n",
       "    <tr>\n",
       "      <th>692</th>\n",
       "      <td>3</td>\n",
       "      <td>3</td>\n",
       "    </tr>\n",
       "    <tr>\n",
       "      <th>1</th>\n",
       "      <td>2</td>\n",
       "      <td>2</td>\n",
       "    </tr>\n",
       "    <tr>\n",
       "      <th>1784</th>\n",
       "      <td>2</td>\n",
       "      <td>2</td>\n",
       "    </tr>\n",
       "    <tr>\n",
       "      <th>1814</th>\n",
       "      <td>1</td>\n",
       "      <td>1</td>\n",
       "    </tr>\n",
       "    <tr>\n",
       "      <th>1901</th>\n",
       "      <td>2</td>\n",
       "      <td>2</td>\n",
       "    </tr>\n",
       "    <tr>\n",
       "      <th>1896</th>\n",
       "      <td>0</td>\n",
       "      <td>0</td>\n",
       "    </tr>\n",
       "  </tbody>\n",
       "</table>\n",
       "</div>"
      ],
      "text/plain": [
       "      Y_test/actual  Y_pred\n",
       "731               2       2\n",
       "512               0       0\n",
       "1831              1       1\n",
       "191               2       2\n",
       "1893              3       3\n",
       "1655              3       3\n",
       "1806              1       1\n",
       "1915              2       2\n",
       "1186              2       2\n",
       "1227              2       2\n",
       "1961              0       0\n",
       "176               0       0\n",
       "1798              1       1\n",
       "935               3       2\n",
       "692               3       3\n",
       "1                 2       2\n",
       "1784              2       2\n",
       "1814              1       1\n",
       "1901              2       2\n",
       "1896              0       0"
      ]
     },
     "execution_count": 52,
     "metadata": {},
     "output_type": "execute_result"
    }
   ],
   "source": [
    "compare = pd.DataFrame({\"Y_test/actual\":Y_test,\"Y_pred\":Y_pred})\n",
    "compare.sample(20)"
   ]
  },
  {
   "cell_type": "code",
   "execution_count": 53,
   "metadata": {},
   "outputs": [
    {
     "data": {
      "text/plain": [
       "(400, 2)"
      ]
     },
     "execution_count": 53,
     "metadata": {},
     "output_type": "execute_result"
    }
   ],
   "source": [
    "compare.shape"
   ]
  },
  {
   "cell_type": "code",
   "execution_count": null,
   "metadata": {},
   "outputs": [],
   "source": []
  }
 ],
 "metadata": {
  "kernelspec": {
   "display_name": "Python 3",
   "language": "python",
   "name": "python3"
  },
  "language_info": {
   "codemirror_mode": {
    "name": "ipython",
    "version": 3
   },
   "file_extension": ".py",
   "mimetype": "text/x-python",
   "name": "python",
   "nbconvert_exporter": "python",
   "pygments_lexer": "ipython3",
   "version": "3.7.6"
  }
 },
 "nbformat": 4,
 "nbformat_minor": 4
}
